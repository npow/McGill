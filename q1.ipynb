{
 "metadata": {
  "name": "",
  "signature": "sha256:2e9db8f7775a53ebca0bb80dea5310c36503a92528eb9bbeec5cd938e4af4c23"
 },
 "nbformat": 3,
 "nbformat_minor": 0,
 "worksheets": [
  {
   "cells": [
    {
     "cell_type": "code",
     "collapsed": false,
     "input": [
      "from __future__ import division\n",
      "import matplotlib.pyplot as plt\n",
      "%matplotlib inline\n",
      "import numpy as np\n",
      "import sys\n",
      "from PIL import Image\n",
      "from scipy.stats import multivariate_normal\n",
      "\n",
      "X = np.array(Image.open('data/img/GameOfThrones.jpg'), dtype=np.float).reshape(-1,3)"
     ],
     "language": "python",
     "metadata": {},
     "outputs": [],
     "prompt_number": 177
    },
    {
     "cell_type": "code",
     "collapsed": false,
     "input": [
      "def pdf(X, mu, cov):\n",
      "    return multivariate_normal.pdf(X, mu, cov)\n",
      "\n",
      "def KFold(n, k):\n",
      "    indices = np.arange(n)\n",
      "    #np.random.shuffle(indices)\n",
      "    d = int(n/k)\n",
      "    folds = np.array([indices[i:i+d] for i in xrange(0, n, d)])\n",
      "    L = []\n",
      "    for i, fold in enumerate(folds):\n",
      "        L.append([np.concatenate(folds[[x for x in range(k) if x != i]]), fold])\n",
      "    return L\n",
      "\n",
      "class KMeans(object):\n",
      "    def __init__(self, n_clusters):\n",
      "        self.K = n_clusters\n",
      "        self.mu = [0] * self.K\n",
      "        self.clusters = None\n",
      "        \n",
      "    def fit(self, X):\n",
      "        d = int(X.shape[0] / self.K)\n",
      "        indices = np.arange(X.shape[0])\n",
      "        np.random.shuffle(indices)\n",
      "        self.clusters = [indices[k*d:(k+1)*d] for k in xrange(self.K)]\n",
      "        for k in xrange(self.K):\n",
      "            self.mu[k] = np.mean(X[self.clusters[k]], axis=0)\n",
      "        \n",
      "        iter = 0\n",
      "        while True:\n",
      "            print \"km iter: \", iter\n",
      "            sys.stdout.flush()\n",
      "            clusters_new = []\n",
      "            for k in xrange(self.K):\n",
      "                clusters_new.append([])       \n",
      "            for i,x in enumerate(X):\n",
      "                cc = [np.linalg.norm(x-self.mu[k]) for k in xrange(self.K)]\n",
      "                c = np.argmin(cc)\n",
      "                clusters_new[c].append(i)\n",
      "            mu_new = [np.mean(X[clusters_new[k]], axis=0) for k in xrange(self.K)]\n",
      "            if np.allclose(np.sort(mu_new, axis=0), np.sort(self.mu, axis=0), atol=0.1):\n",
      "                break\n",
      "            sys.stdout.flush()            \n",
      "            self.clusters = clusters_new\n",
      "            self.mu = mu_new\n",
      "            iter += 1\n",
      "\n",
      "class GMM(object):\n",
      "    def __init__(self, n_components, max_iter=100, use_kmeans=False):\n",
      "        self.K = n_components\n",
      "        self.mu = [0] * self.K\n",
      "        self.cov = [0] * self.K\n",
      "        self.prior = [0] * self.K\n",
      "        self.max_iter = max_iter\n",
      "        self.use_kmeans = use_kmeans\n",
      "        \n",
      "    def fit(self, X):        \n",
      "        if not self.use_kmeans:\n",
      "            d = int(X.shape[0] / self.K)\n",
      "            indices = np.arange(X.shape[0])\n",
      "            np.random.shuffle(indices)\n",
      "            self.clusters = [indices[k*d:(k+1)*d] for k in xrange(self.K)]\n",
      "            for k in xrange(self.K):\n",
      "                self.mu[k] = np.mean(X[self.clusters[k]], axis=0)\n",
      "                self.cov[k] = np.cov(X[self.clusters[k]].T)\n",
      "                self.prior[k] = 1/self.K \n",
      "        else:\n",
      "            km = KMeans(n_clusters=self.K)\n",
      "            km.fit(X)            \n",
      "            for k in xrange(self.K):\n",
      "                self.mu[k] = km.mu[k]                \n",
      "                self.cov[k] = np.cov(X[km.clusters[k]].T)\n",
      "                self.prior[k] = 1/self.K \n",
      "                \n",
      "        ll = self.log_likelihood(X, self.mu, self.cov, self.prior)\n",
      "        \n",
      "        iter = 0\n",
      "        while iter < self.max_iter:\n",
      "            if iter % 20 == 0:\n",
      "                print \"k: \", self.K, \" iter: \", iter\n",
      "            sys.stdout.flush()\n",
      "            gamma = np.concatenate([(self.prior[k] * pdf(X, self.mu[k], self.cov[k])).reshape((-1,1)) for k in xrange(self.K)], axis=1)\n",
      "            gamma /= np.sum(gamma, axis=1).reshape((-1,1))\n",
      "            \n",
      "            N = np.sum(gamma, axis=0) \n",
      "            mu_new = [np.sum(np.multiply(gamma[:,k].reshape((-1,1)), X), axis=0) / N[k] for k in xrange(self.K)]\n",
      "            cov_new = [0] * self.K\n",
      "            for k in xrange(self.K):\n",
      "                A = np.multiply(gamma[:,k].reshape((-1,1)), X-mu_new[k])\n",
      "                cov_new[k] = np.dot(A.T, A)/N[k]\n",
      "                \n",
      "            prior_new = [N[k] / X.shape[0] for k in xrange(self.K)]   \n",
      "            ll_new = self.log_likelihood(X, mu_new, cov_new, prior_new)\n",
      "            if (np.allclose(mu_new, self.mu) and np.allclose(cov_new, self.cov) and np.allclose(prior_new, self.prior)) or np.allclose(ll_new, ll):\n",
      "                break\n",
      "\n",
      "            self.mu = mu_new\n",
      "            self.cov = cov_new\n",
      "            self.prior = prior_new\n",
      "            ll = ll_new\n",
      "            iter += 1\n",
      "    \n",
      "    def log_likelihood(self, X, mu, cov, prior):\n",
      "        L = np.concatenate([(prior[k]*pdf(X, mu[k], cov[k])).reshape((-1,1)) for k in xrange(self.K)], axis=1)\n",
      "        return np.sum(np.sum(L, axis=1)) \n",
      "    \n",
      "    def predict(self, X):\n",
      "        gamma = np.concatenate([(self.prior[k] * pdf(X, self.mu[k], self.cov[k])).reshape((-1,1)) for k in xrange(self.K)], axis=1)\n",
      "        gamma /= np.sum(gamma, axis=1).reshape((-1,1))\n",
      "        return gamma.argmax(axis=1)\n",
      "    \n",
      "    def score(self, X):\n",
      "        return self.log_likelihood(X, self.mu, self.cov, self.prior)"
     ],
     "language": "python",
     "metadata": {},
     "outputs": [],
     "prompt_number": 178
    },
    {
     "cell_type": "code",
     "collapsed": false,
     "input": [
      "clf = GMM(n_components=2, use_kmeans=False)\n",
      "clf.fit(X)\n",
      "pred = clf.predict(X)\n",
      "plt.imshow(pred.reshape(324,-1))\n",
      "plt.show()"
     ],
     "language": "python",
     "metadata": {},
     "outputs": [
      {
       "output_type": "stream",
       "stream": "stdout",
       "text": [
        "k:  2  iter:  0\n"
       ]
      },
      {
       "output_type": "stream",
       "stream": "stdout",
       "text": [
        "k:  2  iter:  20\n"
       ]
      },
      {
       "output_type": "stream",
       "stream": "stdout",
       "text": [
        "k:  2  iter:  40\n"
       ]
      },
      {
       "output_type": "stream",
       "stream": "stdout",
       "text": [
        "k:  2  iter:  60\n"
       ]
      },
      {
       "output_type": "stream",
       "stream": "stdout",
       "text": [
        "k:  2  iter:  80\n"
       ]
      },
      {
       "metadata": {},
       "output_type": "display_data",
       "png": "[encoded data removed]",
       "text": [
        "<matplotlib.figure.Figure at 0x119bb33d0>"
       ]
      }
     ],
     "prompt_number": 183
    },
    {
     "cell_type": "code",
     "collapsed": false,
     "input": [
      "clf = GMM(n_components=3, use_kmeans=False)\n",
      "clf.fit(X)\n",
      "pred = clf.predict(X)\n",
      "plt.imshow(pred.reshape(324,-1))\n",
      "plt.show()"
     ],
     "language": "python",
     "metadata": {},
     "outputs": [
      {
       "output_type": "stream",
       "stream": "stdout",
       "text": [
        "k:  3  iter:  0\n"
       ]
      },
      {
       "output_type": "stream",
       "stream": "stdout",
       "text": [
        "k:  3  iter:  20\n"
       ]
      },
      {
       "output_type": "stream",
       "stream": "stdout",
       "text": [
        "k:  3  iter:  40\n"
       ]
      },
      {
       "output_type": "stream",
       "stream": "stdout",
       "text": [
        "k:  3  iter:  60\n"
       ]
      },
      {
       "metadata": {},
       "output_type": "display_data",
       "png": "[encoded data removed]",
       "text": [
        "<matplotlib.figure.Figure at 0x113f81910>"
       ]
      }
     ],
     "prompt_number": 184
    },
    {
     "cell_type": "code",
     "collapsed": false,
     "input": [
      "clf = GMM(n_components=4, use_kmeans=False)\n",
      "clf.fit(X)\n",
      "pred = clf.predict(X)\n",
      "plt.imshow(pred.reshape(324,-1))\n",
      "plt.show()"
     ],
     "language": "python",
     "metadata": {},
     "outputs": [
      {
       "output_type": "stream",
       "stream": "stdout",
       "text": [
        "k:  4  iter:  0\n"
       ]
      },
      {
       "output_type": "stream",
       "stream": "stdout",
       "text": [
        "k:  4  iter:  20\n"
       ]
      },
      {
       "output_type": "stream",
       "stream": "stdout",
       "text": [
        "k:  4  iter:  40\n"
       ]
      },
      {
       "output_type": "stream",
       "stream": "stdout",
       "text": [
        "k:  4  iter:  60\n"
       ]
      },
      {
       "output_type": "stream",
       "stream": "stdout",
       "text": [
        "k:  4  iter:  80\n"
       ]
      },
      {
       "metadata": {},
       "output_type": "display_data",
       "png": "[encoded data removed]",
       "text": [
        "<matplotlib.figure.Figure at 0x11362e890>"
       ]
      }
     ],
     "prompt_number": 185
    },
    {
     "cell_type": "code",
     "collapsed": false,
     "input": [
      "clf = GMM(n_components=5, use_kmeans=False)\n",
      "clf.fit(X)\n",
      "pred = clf.predict(X)\n",
      "plt.imshow(pred.reshape(324,-1))\n",
      "plt.show()"
     ],
     "language": "python",
     "metadata": {},
     "outputs": [
      {
       "output_type": "stream",
       "stream": "stdout",
       "text": [
        "k:  5  iter:  0\n"
       ]
      },
      {
       "output_type": "stream",
       "stream": "stdout",
       "text": [
        "k:  5  iter:  20\n"
       ]
      },
      {
       "output_type": "stream",
       "stream": "stdout",
       "text": [
        "k:  5  iter:  40\n"
       ]
      },
      {
       "output_type": "stream",
       "stream": "stdout",
       "text": [
        "k:  5  iter:  60\n"
       ]
      },
      {
       "output_type": "stream",
       "stream": "stdout",
       "text": [
        "k:  5  iter:  80\n"
       ]
      },
      {
       "metadata": {},
       "output_type": "display_data",
       "png": "[encoded data removed]",
       "text": [
        "<matplotlib.figure.Figure at 0x11bb47750>"
       ]
      }
     ],
     "prompt_number": 186
    },
    {
     "cell_type": "code",
     "collapsed": false,
     "input": [
      "clf = GMM(n_components=6, use_kmeans=False)\n",
      "clf.fit(X)\n",
      "pred = clf.predict(X)\n",
      "plt.imshow(pred.reshape(324,-1))\n",
      "plt.show()"
     ],
     "language": "python",
     "metadata": {},
     "outputs": [
      {
       "output_type": "stream",
       "stream": "stdout",
       "text": [
        "k:  6  iter:  0\n"
       ]
      },
      {
       "output_type": "stream",
       "stream": "stdout",
       "text": [
        "k:  6  iter:  20\n"
       ]
      },
      {
       "output_type": "stream",
       "stream": "stdout",
       "text": [
        "k:  6  iter:  40\n"
       ]
      },
      {
       "output_type": "stream",
       "stream": "stdout",
       "text": [
        "k:  6  iter:  60\n"
       ]
      },
      {
       "output_type": "stream",
       "stream": "stdout",
       "text": [
        "k:  6  iter:  80\n"
       ]
      },
      {
       "metadata": {},
       "output_type": "display_data",
       "png": "[encoded data removed]",
       "text": [
        "<matplotlib.figure.Figure at 0x113fd8090>"
       ]
      }
     ],
     "prompt_number": 187
    },
    {
     "cell_type": "code",
     "collapsed": false,
     "input": [
      "def do_cv():\n",
      "    scores = []\n",
      "    ks = range(2, 9)\n",
      "    for k in ks:\n",
      "        print \"k: \", k\n",
      "        kf = KFold(X.shape[0], 5)\n",
      "        L = []\n",
      "        for train_indices, test_indices in kf:\n",
      "            X_train, X_test = X[train_indices], X[test_indices]\n",
      "            clf = GMM(n_components=k)\n",
      "            clf.fit(X_train)\n",
      "            ll = clf.score(X_test).sum()\n",
      "            L.append(ll)\n",
      "        scores.append(np.array(L).mean())\n",
      "    plt.figure()\n",
      "    plt.xlabel('num components')\n",
      "    plt.ylabel('avg log-likelihood')\n",
      "    plt.plot(ks, scores)"
     ],
     "language": "python",
     "metadata": {},
     "outputs": [],
     "prompt_number": 188
    },
    {
     "cell_type": "code",
     "collapsed": false,
     "input": [
      "do_cv()"
     ],
     "language": "python",
     "metadata": {},
     "outputs": [
      {
       "output_type": "stream",
       "stream": "stdout",
       "text": [
        "k:  2\n",
        "k: "
       ]
      },
      {
       "output_type": "stream",
       "stream": "stdout",
       "text": [
        " 2  iter:  0\n"
       ]
      },
      {
       "output_type": "stream",
       "stream": "stdout",
       "text": [
        "k:  2  iter:  20\n"
       ]
      },
      {
       "output_type": "stream",
       "stream": "stdout",
       "text": [
        "k:  2  iter:  0\n"
       ]
      },
      {
       "output_type": "stream",
       "stream": "stdout",
       "text": [
        "k:  2  iter:  0\n"
       ]
      },
      {
       "output_type": "stream",
       "stream": "stdout",
       "text": [
        "k:  2  iter:  20\n"
       ]
      },
      {
       "output_type": "stream",
       "stream": "stdout",
       "text": [
        "k:  2  iter:  0\n"
       ]
      },
      {
       "output_type": "stream",
       "stream": "stdout",
       "text": [
        "k:  2  iter:  20\n"
       ]
      },
      {
       "output_type": "stream",
       "stream": "stdout",
       "text": [
        "k:  2  iter:  40\n"
       ]
      },
      {
       "output_type": "stream",
       "stream": "stdout",
       "text": [
        "k:  2  iter:  0\n"
       ]
      },
      {
       "output_type": "stream",
       "stream": "stdout",
       "text": [
        "k:  2  iter:  20\n"
       ]
      },
      {
       "output_type": "stream",
       "stream": "stdout",
       "text": [
        "k:  2  iter:  40\n"
       ]
      },
      {
       "output_type": "stream",
       "stream": "stdout",
       "text": [
        "k:  2  iter:  0\n"
       ]
      },
      {
       "output_type": "stream",
       "stream": "stdout",
       "text": [
        "k:  2  iter:  20\n"
       ]
      },
      {
       "output_type": "stream",
       "stream": "stdout",
       "text": [
        "k:  2  iter:  40\n"
       ]
      },
      {
       "output_type": "stream",
       "stream": "stdout",
       "text": [
        "k:  2  iter:  60\n"
       ]
      },
      {
       "output_type": "stream",
       "stream": "stdout",
       "text": [
        "k:  3\n",
        "k: "
       ]
      },
      {
       "output_type": "stream",
       "stream": "stdout",
       "text": [
        " 3  iter:  0\n"
       ]
      },
      {
       "output_type": "stream",
       "stream": "stdout",
       "text": [
        "k:  3  iter:  20\n"
       ]
      },
      {
       "output_type": "stream",
       "stream": "stdout",
       "text": [
        "k:  3  iter:  40\n"
       ]
      },
      {
       "output_type": "stream",
       "stream": "stdout",
       "text": [
        "k:  3  iter:  60\n"
       ]
      },
      {
       "output_type": "stream",
       "stream": "stdout",
       "text": [
        "k:  3  iter:  80\n"
       ]
      },
      {
       "output_type": "stream",
       "stream": "stdout",
       "text": [
        "k:  3  iter:  0\n"
       ]
      },
      {
       "output_type": "stream",
       "stream": "stdout",
       "text": [
        "k:  3  iter:  20\n"
       ]
      },
      {
       "output_type": "stream",
       "stream": "stdout",
       "text": [
        "k:  3  iter:  40\n"
       ]
      },
      {
       "output_type": "stream",
       "stream": "stdout",
       "text": [
        "k:  3  iter:  60\n"
       ]
      },
      {
       "output_type": "stream",
       "stream": "stdout",
       "text": [
        "k:  3  iter:  0\n"
       ]
      },
      {
       "output_type": "stream",
       "stream": "stdout",
       "text": [
        "k:  3  iter:  20\n"
       ]
      },
      {
       "output_type": "stream",
       "stream": "stdout",
       "text": [
        "k:  3  iter:  40\n"
       ]
      },
      {
       "output_type": "stream",
       "stream": "stdout",
       "text": [
        "k:  3  iter:  0\n"
       ]
      },
      {
       "output_type": "stream",
       "stream": "stdout",
       "text": [
        "k:  3  iter:  20\n"
       ]
      },
      {
       "output_type": "stream",
       "stream": "stdout",
       "text": [
        "k:  3  iter:  40\n"
       ]
      },
      {
       "output_type": "stream",
       "stream": "stdout",
       "text": [
        "k:  3  iter:  0\n"
       ]
      },
      {
       "output_type": "stream",
       "stream": "stdout",
       "text": [
        "k:  3  iter:  20\n"
       ]
      },
      {
       "output_type": "stream",
       "stream": "stdout",
       "text": [
        "k:  3  iter:  40\n"
       ]
      },
      {
       "output_type": "stream",
       "stream": "stdout",
       "text": [
        "k:  3  iter:  60\n"
       ]
      },
      {
       "output_type": "stream",
       "stream": "stdout",
       "text": [
        "k:  3  iter:  80\n"
       ]
      },
      {
       "output_type": "stream",
       "stream": "stdout",
       "text": [
        "k:  3  iter:  0\n"
       ]
      },
      {
       "output_type": "stream",
       "stream": "stdout",
       "text": [
        "k:  3  iter:  20\n"
       ]
      },
      {
       "output_type": "stream",
       "stream": "stdout",
       "text": [
        "k:  3  iter:  40\n"
       ]
      },
      {
       "output_type": "stream",
       "stream": "stdout",
       "text": [
        "k:  4\n",
        "k: "
       ]
      },
      {
       "output_type": "stream",
       "stream": "stdout",
       "text": [
        " 4  iter:  0\n"
       ]
      },
      {
       "output_type": "stream",
       "stream": "stdout",
       "text": [
        "k:  4  iter:  20\n"
       ]
      },
      {
       "output_type": "stream",
       "stream": "stdout",
       "text": [
        "k:  4  iter:  40\n"
       ]
      },
      {
       "output_type": "stream",
       "stream": "stdout",
       "text": [
        "k:  4  iter:  60\n"
       ]
      },
      {
       "output_type": "stream",
       "stream": "stdout",
       "text": [
        "k:  4  iter:  80\n"
       ]
      },
      {
       "output_type": "stream",
       "stream": "stdout",
       "text": [
        "k:  4  iter:  0\n"
       ]
      },
      {
       "output_type": "stream",
       "stream": "stdout",
       "text": [
        "k:  4  iter:  20\n"
       ]
      },
      {
       "output_type": "stream",
       "stream": "stdout",
       "text": [
        "k:  4  iter:  40\n"
       ]
      },
      {
       "output_type": "stream",
       "stream": "stdout",
       "text": [
        "k:  4  iter:  0\n"
       ]
      },
      {
       "output_type": "stream",
       "stream": "stdout",
       "text": [
        "k:  4  iter:  20\n"
       ]
      },
      {
       "output_type": "stream",
       "stream": "stdout",
       "text": [
        "k:  4  iter:  40\n"
       ]
      },
      {
       "output_type": "stream",
       "stream": "stdout",
       "text": [
        "k:  4  iter:  60\n"
       ]
      },
      {
       "output_type": "stream",
       "stream": "stdout",
       "text": [
        "k:  4  iter:  0\n"
       ]
      },
      {
       "output_type": "stream",
       "stream": "stdout",
       "text": [
        "k:  4  iter:  20\n"
       ]
      },
      {
       "output_type": "stream",
       "stream": "stdout",
       "text": [
        "k:  4  iter:  40\n"
       ]
      },
      {
       "output_type": "stream",
       "stream": "stdout",
       "text": [
        "k:  4  iter:  60\n"
       ]
      },
      {
       "output_type": "stream",
       "stream": "stdout",
       "text": [
        "k:  4  iter:  80\n"
       ]
      },
      {
       "output_type": "stream",
       "stream": "stdout",
       "text": [
        "k:  4  iter:  0\n"
       ]
      },
      {
       "output_type": "stream",
       "stream": "stdout",
       "text": [
        "k:  4  iter:  20\n"
       ]
      },
      {
       "output_type": "stream",
       "stream": "stdout",
       "text": [
        "k:  4  iter:  40\n"
       ]
      },
      {
       "output_type": "stream",
       "stream": "stdout",
       "text": [
        "k:  4  iter:  60\n"
       ]
      },
      {
       "output_type": "stream",
       "stream": "stdout",
       "text": [
        "k:  4  iter:  80\n"
       ]
      },
      {
       "output_type": "stream",
       "stream": "stdout",
       "text": [
        "k:  4  iter:  0\n"
       ]
      },
      {
       "output_type": "stream",
       "stream": "stdout",
       "text": [
        "k:  4  iter:  20\n"
       ]
      },
      {
       "output_type": "stream",
       "stream": "stdout",
       "text": [
        "k:  4  iter:  40\n"
       ]
      },
      {
       "output_type": "stream",
       "stream": "stdout",
       "text": [
        "k:  4  iter:  60\n"
       ]
      },
      {
       "output_type": "stream",
       "stream": "stdout",
       "text": [
        "k:  4  iter:  80\n"
       ]
      },
      {
       "output_type": "stream",
       "stream": "stdout",
       "text": [
        "k:  5\n",
        "k: "
       ]
      },
      {
       "output_type": "stream",
       "stream": "stdout",
       "text": [
        " 5  iter:  0\n"
       ]
      },
      {
       "output_type": "stream",
       "stream": "stdout",
       "text": [
        "k:  5  iter:  20\n"
       ]
      },
      {
       "output_type": "stream",
       "stream": "stdout",
       "text": [
        "k:  5  iter:  40\n"
       ]
      },
      {
       "output_type": "stream",
       "stream": "stdout",
       "text": [
        "k:  5  iter:  60\n"
       ]
      },
      {
       "output_type": "stream",
       "stream": "stdout",
       "text": [
        "k:  5  iter:  80\n"
       ]
      },
      {
       "output_type": "stream",
       "stream": "stdout",
       "text": [
        "k:  5  iter:  0\n"
       ]
      },
      {
       "output_type": "stream",
       "stream": "stdout",
       "text": [
        "k:  5  iter:  20\n"
       ]
      },
      {
       "output_type": "stream",
       "stream": "stdout",
       "text": [
        "k:  5  iter:  40\n"
       ]
      },
      {
       "output_type": "stream",
       "stream": "stdout",
       "text": [
        "k:  5  iter:  60\n"
       ]
      },
      {
       "output_type": "stream",
       "stream": "stdout",
       "text": [
        "k:  5  iter:  80\n"
       ]
      },
      {
       "output_type": "stream",
       "stream": "stdout",
       "text": [
        "k:  5  iter:  0\n"
       ]
      },
      {
       "output_type": "stream",
       "stream": "stdout",
       "text": [
        "k:  5  iter:  20\n"
       ]
      },
      {
       "output_type": "stream",
       "stream": "stdout",
       "text": [
        "k:  5  iter:  40\n"
       ]
      },
      {
       "output_type": "stream",
       "stream": "stdout",
       "text": [
        "k:  5  iter:  60\n"
       ]
      },
      {
       "output_type": "stream",
       "stream": "stdout",
       "text": [
        "k:  5  iter:  0\n"
       ]
      },
      {
       "output_type": "stream",
       "stream": "stdout",
       "text": [
        "k:  5  iter:  20\n"
       ]
      },
      {
       "output_type": "stream",
       "stream": "stdout",
       "text": [
        "k:  5  iter:  40\n"
       ]
      },
      {
       "output_type": "stream",
       "stream": "stdout",
       "text": [
        "k:  5  iter:  60\n"
       ]
      },
      {
       "output_type": "stream",
       "stream": "stdout",
       "text": [
        "k:  5  iter:  0\n"
       ]
      },
      {
       "output_type": "stream",
       "stream": "stdout",
       "text": [
        "k:  5  iter:  20\n"
       ]
      },
      {
       "output_type": "stream",
       "stream": "stdout",
       "text": [
        "k:  5  iter:  40\n"
       ]
      },
      {
       "output_type": "stream",
       "stream": "stdout",
       "text": [
        "k:  5  iter:  60\n"
       ]
      },
      {
       "output_type": "stream",
       "stream": "stdout",
       "text": [
        "k:  5  iter:  0\n"
       ]
      },
      {
       "output_type": "stream",
       "stream": "stdout",
       "text": [
        "k:  5  iter:  20\n"
       ]
      },
      {
       "output_type": "stream",
       "stream": "stdout",
       "text": [
        "k:  6\n",
        "k: "
       ]
      },
      {
       "output_type": "stream",
       "stream": "stdout",
       "text": [
        " 6  iter:  0\n"
       ]
      },
      {
       "output_type": "stream",
       "stream": "stdout",
       "text": [
        "k:  6  iter:  20\n"
       ]
      },
      {
       "output_type": "stream",
       "stream": "stdout",
       "text": [
        "k:  6  iter:  40\n"
       ]
      },
      {
       "output_type": "stream",
       "stream": "stdout",
       "text": [
        "k:  6  iter:  60\n"
       ]
      },
      {
       "output_type": "stream",
       "stream": "stdout",
       "text": [
        "k:  6  iter:  80\n"
       ]
      },
      {
       "output_type": "stream",
       "stream": "stdout",
       "text": [
        "k:  6  iter:  0\n"
       ]
      },
      {
       "output_type": "stream",
       "stream": "stdout",
       "text": [
        "k:  6  iter:  20\n"
       ]
      },
      {
       "output_type": "stream",
       "stream": "stdout",
       "text": [
        "k:  6  iter:  40\n"
       ]
      },
      {
       "output_type": "stream",
       "stream": "stdout",
       "text": [
        "k:  6  iter:  60\n"
       ]
      },
      {
       "output_type": "stream",
       "stream": "stdout",
       "text": [
        "k:  6  iter:  80\n"
       ]
      },
      {
       "output_type": "stream",
       "stream": "stdout",
       "text": [
        "k:  6  iter:  0\n"
       ]
      },
      {
       "output_type": "stream",
       "stream": "stdout",
       "text": [
        "k:  6  iter:  20\n"
       ]
      },
      {
       "output_type": "stream",
       "stream": "stdout",
       "text": [
        "k:  6  iter:  40\n"
       ]
      },
      {
       "output_type": "stream",
       "stream": "stdout",
       "text": [
        "k:  6  iter:  60\n"
       ]
      },
      {
       "output_type": "stream",
       "stream": "stdout",
       "text": [
        "k:  6  iter:  80\n"
       ]
      },
      {
       "output_type": "stream",
       "stream": "stdout",
       "text": [
        "k:  6  iter:  0\n"
       ]
      },
      {
       "output_type": "stream",
       "stream": "stdout",
       "text": [
        "k:  6  iter:  20\n"
       ]
      },
      {
       "output_type": "stream",
       "stream": "stdout",
       "text": [
        "k:  6  iter:  40\n"
       ]
      },
      {
       "output_type": "stream",
       "stream": "stdout",
       "text": [
        "k:  6  iter:  60\n"
       ]
      },
      {
       "output_type": "stream",
       "stream": "stdout",
       "text": [
        "k:  6  iter:  80\n"
       ]
      },
      {
       "output_type": "stream",
       "stream": "stdout",
       "text": [
        "k:  6  iter:  0\n"
       ]
      },
      {
       "output_type": "stream",
       "stream": "stdout",
       "text": [
        "k:  6  iter:  20\n"
       ]
      },
      {
       "output_type": "stream",
       "stream": "stdout",
       "text": [
        "k:  6  iter:  40\n"
       ]
      },
      {
       "output_type": "stream",
       "stream": "stdout",
       "text": [
        "k:  6  iter:  60\n"
       ]
      },
      {
       "output_type": "stream",
       "stream": "stdout",
       "text": [
        "k:  6  iter:  80\n"
       ]
      },
      {
       "output_type": "stream",
       "stream": "stdout",
       "text": [
        "k:  6  iter:  0\n"
       ]
      },
      {
       "output_type": "stream",
       "stream": "stdout",
       "text": [
        "k:  6  iter:  20\n"
       ]
      },
      {
       "output_type": "stream",
       "stream": "stdout",
       "text": [
        "k:  6  iter:  40\n"
       ]
      },
      {
       "output_type": "stream",
       "stream": "stdout",
       "text": [
        "k:  6  iter:  60\n"
       ]
      },
      {
       "output_type": "stream",
       "stream": "stdout",
       "text": [
        "k:  6  iter:  80\n"
       ]
      },
      {
       "output_type": "stream",
       "stream": "stdout",
       "text": [
        "k:  7\n",
        "k: "
       ]
      },
      {
       "output_type": "stream",
       "stream": "stdout",
       "text": [
        " 7  iter:  0\n"
       ]
      },
      {
       "output_type": "stream",
       "stream": "stdout",
       "text": [
        "k:  7  iter:  20\n"
       ]
      },
      {
       "output_type": "stream",
       "stream": "stdout",
       "text": [
        "k:  7  iter:  40\n"
       ]
      },
      {
       "output_type": "stream",
       "stream": "stdout",
       "text": [
        "k:  7  iter:  60\n"
       ]
      },
      {
       "output_type": "stream",
       "stream": "stdout",
       "text": [
        "k:  7  iter:  80\n"
       ]
      },
      {
       "output_type": "stream",
       "stream": "stdout",
       "text": [
        "k:  7  iter:  0\n"
       ]
      },
      {
       "output_type": "stream",
       "stream": "stdout",
       "text": [
        "k:  7  iter:  20\n"
       ]
      },
      {
       "output_type": "stream",
       "stream": "stdout",
       "text": [
        "k:  7  iter:  40\n"
       ]
      },
      {
       "output_type": "stream",
       "stream": "stdout",
       "text": [
        "k:  7  iter:  60\n"
       ]
      },
      {
       "output_type": "stream",
       "stream": "stdout",
       "text": [
        "k:  7  iter:  80\n"
       ]
      },
      {
       "output_type": "stream",
       "stream": "stdout",
       "text": [
        "k:  7  iter:  0\n"
       ]
      },
      {
       "output_type": "stream",
       "stream": "stdout",
       "text": [
        "k:  7  iter:  20\n"
       ]
      },
      {
       "output_type": "stream",
       "stream": "stdout",
       "text": [
        "k:  7  iter:  40\n"
       ]
      },
      {
       "output_type": "stream",
       "stream": "stdout",
       "text": [
        "k:  7  iter:  60\n"
       ]
      },
      {
       "output_type": "stream",
       "stream": "stdout",
       "text": [
        "k:  7  iter:  80\n"
       ]
      },
      {
       "output_type": "stream",
       "stream": "stdout",
       "text": [
        "k:  7  iter:  0\n"
       ]
      },
      {
       "output_type": "stream",
       "stream": "stdout",
       "text": [
        "k:  7  iter:  20\n"
       ]
      },
      {
       "output_type": "stream",
       "stream": "stdout",
       "text": [
        "k:  7  iter:  40\n"
       ]
      },
      {
       "output_type": "stream",
       "stream": "stdout",
       "text": [
        "k:  7  iter:  60\n"
       ]
      },
      {
       "output_type": "stream",
       "stream": "stdout",
       "text": [
        "k:  7  iter:  0\n"
       ]
      },
      {
       "output_type": "stream",
       "stream": "stdout",
       "text": [
        "k:  7  iter:  20\n"
       ]
      },
      {
       "output_type": "stream",
       "stream": "stdout",
       "text": [
        "k:  7  iter:  40\n"
       ]
      },
      {
       "output_type": "stream",
       "stream": "stdout",
       "text": [
        "k:  7  iter:  60\n"
       ]
      },
      {
       "output_type": "stream",
       "stream": "stdout",
       "text": [
        "k:  7  iter:  80\n"
       ]
      },
      {
       "output_type": "stream",
       "stream": "stdout",
       "text": [
        "k:  7  iter:  0\n"
       ]
      },
      {
       "output_type": "stream",
       "stream": "stdout",
       "text": [
        "k:  7  iter:  20\n"
       ]
      },
      {
       "output_type": "stream",
       "stream": "stdout",
       "text": [
        "k:  7  iter:  40\n"
       ]
      },
      {
       "output_type": "stream",
       "stream": "stdout",
       "text": [
        "k:  7  iter:  60\n"
       ]
      },
      {
       "output_type": "stream",
       "stream": "stdout",
       "text": [
        "k:  7  iter:  80\n"
       ]
      },
      {
       "output_type": "stream",
       "stream": "stdout",
       "text": [
        "k:  8\n",
        "k: "
       ]
      },
      {
       "output_type": "stream",
       "stream": "stdout",
       "text": [
        " 8  iter:  0\n"
       ]
      },
      {
       "output_type": "stream",
       "stream": "stdout",
       "text": [
        "k:  8  iter:  20\n"
       ]
      },
      {
       "output_type": "stream",
       "stream": "stdout",
       "text": [
        "k:  8  iter:  40\n"
       ]
      },
      {
       "output_type": "stream",
       "stream": "stdout",
       "text": [
        "k:  8  iter:  60\n"
       ]
      },
      {
       "output_type": "stream",
       "stream": "stdout",
       "text": [
        "k:  8  iter:  80\n"
       ]
      },
      {
       "output_type": "stream",
       "stream": "stdout",
       "text": [
        "k:  8  iter:  0\n"
       ]
      },
      {
       "output_type": "stream",
       "stream": "stdout",
       "text": [
        "k:  8  iter:  20\n"
       ]
      },
      {
       "output_type": "stream",
       "stream": "stdout",
       "text": [
        "k:  8  iter:  40\n"
       ]
      },
      {
       "output_type": "stream",
       "stream": "stdout",
       "text": [
        "k:  8  iter:  60\n"
       ]
      },
      {
       "output_type": "stream",
       "stream": "stdout",
       "text": [
        "k:  8  iter:  80\n"
       ]
      },
      {
       "output_type": "stream",
       "stream": "stdout",
       "text": [
        "k:  8  iter:  0\n"
       ]
      },
      {
       "output_type": "stream",
       "stream": "stdout",
       "text": [
        "k:  8  iter:  20\n"
       ]
      },
      {
       "output_type": "stream",
       "stream": "stdout",
       "text": [
        "k:  8  iter:  40\n"
       ]
      },
      {
       "output_type": "stream",
       "stream": "stdout",
       "text": [
        "k:  8  iter:  60\n"
       ]
      },
      {
       "output_type": "stream",
       "stream": "stdout",
       "text": [
        "k:  8  iter:  80\n"
       ]
      },
      {
       "output_type": "stream",
       "stream": "stdout",
       "text": [
        "k:  8  iter:  0\n"
       ]
      },
      {
       "output_type": "stream",
       "stream": "stdout",
       "text": [
        "k:  8  iter:  20\n"
       ]
      },
      {
       "output_type": "stream",
       "stream": "stdout",
       "text": [
        "k:  8  iter:  40\n"
       ]
      },
      {
       "output_type": "stream",
       "stream": "stdout",
       "text": [
        "k:  8  iter:  60\n"
       ]
      },
      {
       "output_type": "stream",
       "stream": "stdout",
       "text": [
        "k:  8  iter:  80\n"
       ]
      },
      {
       "output_type": "stream",
       "stream": "stdout",
       "text": [
        "k:  8  iter:  0\n"
       ]
      },
      {
       "output_type": "stream",
       "stream": "stdout",
       "text": [
        "k:  8  iter:  20\n"
       ]
      },
      {
       "output_type": "stream",
       "stream": "stdout",
       "text": [
        "k:  8  iter:  40\n"
       ]
      },
      {
       "output_type": "stream",
       "stream": "stdout",
       "text": [
        "k:  8  iter:  60\n"
       ]
      },
      {
       "output_type": "stream",
       "stream": "stdout",
       "text": [
        "k:  8  iter:  80\n"
       ]
      },
      {
       "output_type": "stream",
       "stream": "stdout",
       "text": [
        "k:  8  iter:  0\n"
       ]
      },
      {
       "output_type": "stream",
       "stream": "stdout",
       "text": [
        "k:  8  iter:  20\n"
       ]
      },
      {
       "output_type": "stream",
       "stream": "stdout",
       "text": [
        "k:  8  iter:  40\n"
       ]
      },
      {
       "output_type": "stream",
       "stream": "stdout",
       "text": [
        "k:  8  iter:  60\n"
       ]
      },
      {
       "output_type": "stream",
       "stream": "stdout",
       "text": [
        "k:  8  iter:  80\n"
       ]
      },
      {
       "metadata": {},
       "output_type": "display_data",
       "png": "[encoded data removed]",
       "text": [
        "<matplotlib.figure.Figure at 0x119bc5f50>"
       ]
      }
     ],
     "prompt_number": 190
    },
    {
     "cell_type": "code",
     "collapsed": false,
     "input": [],
     "language": "python",
     "metadata": {},
     "outputs": []
    }
   ],
   "metadata": {}
  }
 ]
}