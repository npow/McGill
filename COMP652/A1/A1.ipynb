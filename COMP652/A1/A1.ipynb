{
 "metadata": {
  "name": "",
  "signature": "sha256:e5df1f33adf73382c3dc5e867f0a1ba7d61b0c194f89f8f4aca363d1c8c864e5"
 },
 "nbformat": 3,
 "nbformat_minor": 0,
 "worksheets": [
  {
   "cells": [
    {
     "cell_type": "code",
     "collapsed": false,
     "input": [
      "import math\n",
      "import numpy as np\n",
      "import pandas as pd\n",
      "from itertools import chain, combinations\n",
      "\n",
      "X = pd.read_csv('data/hw1x.dat', skipinitialspace=True, sep=' ', header=None)\n",
      "X['bias'] = 1\n",
      "X = X[['bias', 0, 1]]\n",
      "Y = pd.read_csv('data/hw1y.dat', skipinitialspace=True, sep=' ', header=None)"
     ],
     "language": "python",
     "metadata": {},
     "outputs": [],
     "prompt_number": 4
    },
    {
     "cell_type": "code",
     "collapsed": false,
     "input": [
      "def Normalize(X):\n",
      "    retval = X.copy()\n",
      "    for col in X.columns.values:\n",
      "        retval[col] /= abs(X[col].max())\n",
      "    return retval\n",
      "        \n",
      "def PolyRegress(X, d):\n",
      "    retval = X.copy()\n",
      "    for p in xrange(2, d+1):\n",
      "        for col in [0, 1]:\n",
      "            retval['x%d^%d'%(col,p)] = X[col]**p\n",
      "    return retval\n",
      "\n",
      "class LinearRegression:\n",
      "    def __init__(self):\n",
      "        self.W = None\n",
      "    def fit(self, X, Y):\n",
      "        X, Y = np.matrix(X), np.matrix(Y)\n",
      "        self.W = (X.T*X).I * X.T * Y\n",
      "    def predict(self, X):\n",
      "        X = np.matrix(X)\n",
      "        return X*self.W\n",
      "\n",
      "class RidgeRegression:\n",
      "    def __init__(self, alpha):\n",
      "        self.alpha = alpha\n",
      "    def fit(self, X, Y):\n",
      "        X, Y = np.matrix(X), np.matrix(Y)\n",
      "        self.W = (X.T*X + self.alpha * np.eye(X.shape[1])).I * X.T * Y\n",
      "    def predict(self, X):\n",
      "        X = np.matrix(X)\n",
      "        return X*self.W\n",
      "    \n",
      "def KFold(n, k):\n",
      "    indices = np.arange(n)\n",
      "    #np.random.shuffle(indices)\n",
      "    folds = np.array(np.split(indices, k))\n",
      "    L = []\n",
      "    for i, fold in enumerate(folds):\n",
      "        L.append([np.concatenate(folds[[x for x in range(k) if x != i]]), fold])\n",
      "    return L\n",
      "\n",
      "def GetColumns(d):\n",
      "    L = ['bias', 1, 0]\n",
      "    for p in xrange(2, d+1):\n",
      "        for col in [0, 1]:\n",
      "            L.append('x%d^%d'%(col,p))\n",
      "    return L\n",
      "\n",
      "def GetOptimalDegree(X, Y, k, clf, LOSS):\n",
      "    H = []\n",
      "    for d in xrange(1, 6):\n",
      "        L = []\n",
      "        XX, YY = np.array(X[GetColumns(d)]), np.array(Y)\n",
      "        for kf in KFold(X.shape[0], k):\n",
      "            train_indices, valid_indices = kf[0], kf[1]\n",
      "            X_train, X_valid, Y_train, Y_valid = XX[train_indices], XX[valid_indices], YY[train_indices], YY[valid_indices]\n",
      "            clf.fit(X_train, Y_train)\n",
      "            pred = clf.predict(X_valid)\n",
      "            loss = LOSS(Y_valid, pred)\n",
      "            L.append(loss)\n",
      "        H.append((d, np.array(L).mean()))\n",
      "    H = np.array(H, dtype=[('degree', int), ('loss', float)])\n",
      "    H = np.sort(H, order='loss')\n",
      "    return H[0][0]\n",
      "\n",
      "def MSE(A, B):\n",
      "    A, B = np.array(A).reshape(-1), np.array(B).reshape(-1)\n",
      "    return ((A-B) ** 2).mean()\n",
      "\n",
      "def CrossValidation(X, Y, k, clf, verbose=True, d=None, normalize=True, LOSS=MSE):\n",
      "    if normalize:\n",
      "        X = Normalize(PolyRegress(X, 5))\n",
      "    else:\n",
      "        X = PolyRegress(X, 5)\n",
      "            \n",
      "    train_err, test_err = [], []\n",
      "    for i,kf in enumerate(KFold(X.shape[0], 5)):\n",
      "        train_valid_indices, test_indices = kf[0], kf[1]\n",
      "        X_train_valid, X_test, Y_train_valid, Y_test = X.ix[train_valid_indices], X.ix[test_indices], Y.ix[train_valid_indices], Y.ix[test_indices]       \n",
      "        if d is None:\n",
      "            d = GetOptimalDegree(X_train_valid, Y_train_valid, k, clf, LOSS)\n",
      "        columns = GetColumns(d)\n",
      "        X_train_valid = X_train_valid[columns]\n",
      "        X_test = X_test[columns]\n",
      "\n",
      "        clf.fit(X_train_valid, Y_train_valid)\n",
      "        test_pred = clf.predict(X_test)\n",
      "        test_loss = LOSS(Y_test, test_pred)\n",
      "        train_pred = clf.predict(X_train_valid)\n",
      "        train_loss = LOSS(Y_train_valid, train_pred)\n",
      "        if verbose:\n",
      "            print \"Fold: %d, BestDegree: %d, TrainErr: %f, TestErr: %f\" % (i, d, train_loss, test_loss)\n",
      "            print \"Weights: \", clf.W.T\n",
      "        train_err.append(train_loss)\n",
      "        test_err.append(test_loss)\n",
      "    loss_train = np.array(train_err).mean()\n",
      "    std_train = np.array(train_err).std()\n",
      "    loss_test = np.array(test_err).mean()\n",
      "    std_test = np.array(test_err).std()\n",
      "    if verbose:\n",
      "        print \"Mean TrainErr: %f\" % loss_train\n",
      "        print \"StdDev TrainErr: %f\" % std_train\n",
      "        print \"Mean TestErr: %f\" % loss_test\n",
      "        print \"StdDev TestErr: %f\" % std_test\n",
      "    return loss_train, loss_test\n"
     ],
     "language": "python",
     "metadata": {},
     "outputs": [],
     "prompt_number": 5
    },
    {
     "cell_type": "code",
     "collapsed": false,
     "input": [
      "CrossValidation(X, Y, k=5, clf=LinearRegression())"
     ],
     "language": "python",
     "metadata": {},
     "outputs": [
      {
       "output_type": "stream",
       "stream": "stdout",
       "text": [
        "Fold: 0, BestDegree: 3, TrainErr: 0.819914, TestErr: 1.151687\n",
        "Weights:  [[  -2.63068868   -1.53455583  -30.83596438   -4.90569988  118.97902211\n",
        "    55.00082963    0.7134203 ]]\n",
        "Fold: 1, BestDegree: 3, TrainErr: 0.724204, TestErr: 1.606677\n",
        "Weights:  [[  -2.89259177   -1.58275117  -31.56132516   -1.31281613  123.32725228\n",
        "    52.09510612   -4.35228969]]\n",
        "Fold: 2, BestDegree: 3, TrainErr: 0.994461, TestErr: 0.395577\n",
        "Weights:  [[ -2.84128993e+00  -7.25542968e-01  -3.14569000e+01  -2.60950609e+00\n",
        "    1.18896835e+02   5.34954410e+01  -5.02993768e-03]]\n",
        "Fold: 3, BestDegree: 3, TrainErr: 0.765954, TestErr: 1.315699\n",
        "Weights:  [[  -2.9605906    -1.57983912  -31.39090613   -1.82850491  120.68637549\n",
        "    52.70483728   -0.79804235]]\n",
        "Fold: 4, BestDegree: 3, TrainErr: 0.963873, TestErr: 0.501455\n",
        "Weights:  [[  -2.90106669   -1.27722862  -31.66266477   -1.31398774  120.56123207\n",
        "    52.55029324   -1.2794003 ]]\n",
        "Mean TrainErr: 0.853681\n",
        "StdDev TrainErr: 0.107296\n",
        "Mean TestErr: 0.994219\n",
        "StdDev TestErr: 0.469987\n"
       ]
      },
      {
       "metadata": {},
       "output_type": "pyout",
       "prompt_number": 6,
       "text": [
        "(0.85368125580814469, 0.99421868452191897)"
       ]
      }
     ],
     "prompt_number": 6
    },
    {
     "cell_type": "code",
     "collapsed": false,
     "input": [
      "import matplotlib.pyplot as plt\n",
      "%matplotlib inline\n",
      "from sklearn import linear_model\n",
      "def GeneratePlots(degree=4):\n",
      "    L_train, L_test = [], []\n",
      "    L_weights = []\n",
      "    alphas = [10**x for x in [-3, -2, -1, 1, 2, 3]]\n",
      "    plt.xscale('log')\n",
      "    plt.xlabel('1/lambda')\n",
      "    plt.ylabel('mean squared error')\n",
      "    for alpha in alphas:\n",
      "        print \"alpha: \", alpha\n",
      "        clf = RidgeRegression(alpha=alpha)\n",
      "        mse_train, mse_test = CrossValidation(X, Y, 5, clf, verbose=False, d=degree, normalize=False)\n",
      "        L_train.append(mse_train)\n",
      "        L_test.append(mse_test)\n",
      "        \n",
      "        clf.fit(Normalize(PolyRegress(X, 5)), Y)\n",
      "        L_weights.append(clf.W)\n",
      "    plt.plot([1.0/alpha for alpha in alphas], L_train, label='train')\n",
      "    plt.plot([1.0/alpha for alpha in alphas], L_test, label='test')\n",
      "    plt.legend()\n",
      "\n",
      "    plt.figure()\n",
      "    plt.xscale('log')\n",
      "    plt.xlabel('1/lambda')\n",
      "    plt.ylabel('value of weight')\n",
      "    for idx in xrange(len(L_weights[0])):\n",
      "        xx = [np.array(ws)[idx] for ws in L_weights]\n",
      "        plt.plot([1.0/alpha for alpha in alphas], xx, label='w_%d'%idx, marker='o')\n",
      "    plt.legend(loc='upper left', bbox_to_anchor=(1.1, 1.05))"
     ],
     "language": "python",
     "metadata": {},
     "outputs": [],
     "prompt_number": 7
    },
    {
     "cell_type": "code",
     "collapsed": false,
     "input": [
      "GeneratePlots()"
     ],
     "language": "python",
     "metadata": {},
     "outputs": [
      {
       "output_type": "stream",
       "stream": "stdout",
       "text": [
        "alpha:  0.001\n",
        "alpha:  0.01\n",
        "alpha: "
       ]
      },
      {
       "output_type": "stream",
       "stream": "stdout",
       "text": [
        " 0.1\n",
        "alpha:  10\n",
        "alpha: "
       ]
      },
      {
       "output_type": "stream",
       "stream": "stdout",
       "text": [
        " 100\n",
        "alpha:  1000\n"
       ]
      },
      {
       "metadata": {},
       "output_type": "display_data",
       "png": "[encoded data removed]",
       "text": [
        "<matplotlib.figure.Figure at 0x10d88bcd0>"
       ]
      },
      {
       "metadata": {},
       "output_type": "display_data",
       "png": "[encoded data removed]",
       "text": [
        "<matplotlib.figure.Figure at 0x10cebd8d0>"
       ]
      }
     ],
     "prompt_number": 36
    },
    {
     "cell_type": "code",
     "collapsed": false,
     "input": [
      "from functools import partial\n",
      "\n",
      "def HUBER(A, B, delta):\n",
      "    A, B = np.array(A).reshape(-1), np.array(B).reshape(-1)\n",
      "    errs = A - B\n",
      "    loss = 0\n",
      "    for err in errs:\n",
      "        if abs(err) <= delta:\n",
      "            loss += (err**2)/2\n",
      "        else:\n",
      "            loss += delta * abs(err) - (delta**2)/2\n",
      "    return loss / A.shape[0]\n",
      "\n",
      "class HuberRegression:\n",
      "    def __init__(self, delta=0.01, alpha=0.1, epochs=1):\n",
      "        self.delta = delta\n",
      "        self.alpha = alpha\n",
      "        self.epochs = epochs\n",
      "        self.W = None\n",
      "        \n",
      "    def fit(self, X, Y):\n",
      "        X, Y = np.matrix(X), np.matrix(Y) \n",
      "        self.W = np.random.uniform(0, 0, (X.shape[1],1))\n",
      "        for e in xrange(self.epochs):\n",
      "            for i in xrange(X.shape[0]):\n",
      "                err = abs(Y[i] - X[i]*self.W)\n",
      "                loss = self.W.T * X[i].T * X[i] - Y[i]*X[i]\n",
      "                if err <= self.delta:\n",
      "                    self.W -= self.alpha * loss.T\n",
      "                else:\n",
      "                    self.W -= self.alpha * self.delta * loss.T / err\n",
      "            if False and e % 10 == 0:\n",
      "                print \"epoch: %d, loss: %f\" % (e, partial(HUBER, delta=self.delta)(self.predict(X), Y))\n",
      "                \n",
      "    def predict(self, X):\n",
      "        X = np.matrix(X)\n",
      "        return X*self.W\n"
     ],
     "language": "python",
     "metadata": {},
     "outputs": [],
     "prompt_number": 21
    },
    {
     "cell_type": "code",
     "collapsed": false,
     "input": [
      "L_train = []\n",
      "L_test = []\n",
      "for delta in np.arange(0.5, 3.0, 0.1):\n",
      "    print \"delta: \", delta\n",
      "    clf = HuberRegression(epochs=1000, delta=delta, alpha=0.1)\n",
      "    train_err, test_err = CrossValidation(X, Y, 5, clf, verbose=True, d=3, normalize=True, LOSS=MSE)\n",
      "    L_train.append(train_err)\n",
      "    L_test.append(test_err)\n"
     ],
     "language": "python",
     "metadata": {},
     "outputs": [
      {
       "output_type": "stream",
       "stream": "stdout",
       "text": [
        "delta:  0.5\n",
        "Fold: 0, BestDegree: 3, TrainErr: 2.690629, TestErr: 4.080907"
       ]
      },
      {
       "output_type": "stream",
       "stream": "stdout",
       "text": [
        "\n",
        "Weights:  [[ -2.64639184   9.34820398 -32.70211585   2.49113735  81.14949902\n",
        "   48.71147995  30.60044052]]\n",
        "Fold: 1, BestDegree: 3, TrainErr: 2.052396, TestErr: 1.352614"
       ]
      },
      {
       "output_type": "stream",
       "stream": "stdout",
       "text": [
        "\n",
        "Weights:  [[ -2.59304444   4.98769659 -33.79223094   8.1411371   91.76530763\n",
        "   44.38715136  23.70439161]]\n",
        "Fold: 2, BestDegree: 3, TrainErr: 2.465862, TestErr: 6.592645"
       ]
      },
      {
       "output_type": "stream",
       "stream": "stdout",
       "text": [
        "\n",
        "Weights:  [[ -2.80618338  10.2321191  -34.61515807   9.01467868  79.09694521\n",
        "   43.84875175  31.93802912]]\n",
        "Fold: 3, BestDegree: 3, TrainErr: 1.868074, TestErr: 2.493738"
       ]
      },
      {
       "output_type": "stream",
       "stream": "stdout",
       "text": [
        "\n",
        "Weights:  [[ -2.73562654   4.66230438 -34.28060627  11.43483803  91.49831871\n",
        "   41.57036771  24.40457309]]\n",
        "Fold: 4, BestDegree: 3, TrainErr: 2.250261, TestErr: 1.294518"
       ]
      },
      {
       "output_type": "stream",
       "stream": "stdout",
       "text": [
        "\n",
        "Weights:  [[ -2.29511621   5.41910902 -33.90133725   9.45788205  89.75223877\n",
        "   43.18356277  25.21973451]]\n",
        "Mean TrainErr: 2.265444\n",
        "StdDev TrainErr: 0.291367\n",
        "Mean TestErr: 3.162884\n",
        "StdDev TestErr: 1.991063\n",
        "delta:  0.6\n",
        "Fold: 0, BestDegree: 3, TrainErr: 2.006529, TestErr: 3.141828"
       ]
      },
      {
       "output_type": "stream",
       "stream": "stdout",
       "text": [
        "\n",
        "Weights:  [[ -2.51072394   6.81191884 -32.04949315   0.32948216  88.04706062\n",
        "   50.43905808  25.77606665]]\n",
        "Fold: 1, BestDegree: 3, TrainErr: 1.499041, TestErr: 1.227722"
       ]
      },
      {
       "output_type": "stream",
       "stream": "stdout",
       "text": [
        "\n",
        "Weights:  [[ -2.55715665   2.51602809 -33.25969196   6.22927249  99.80023257\n",
        "   45.92608952  17.64898603]]\n",
        "Fold: 2, BestDegree: 3, TrainErr: 2.078961, TestErr: 4.998137"
       ]
      },
      {
       "output_type": "stream",
       "stream": "stdout",
       "text": [
        "\n",
        "Weights:  [[ -2.76986284   8.532055   -34.06995221   6.84085121  84.83860617\n",
        "   45.66294734  27.53467877]]\n",
        "Fold: 3, BestDegree: 3, TrainErr: 1.400755, TestErr: 2.181944"
       ]
      },
      {
       "output_type": "stream",
       "stream": "stdout",
       "text": [
        "\n",
        "Weights:  [[ -2.74253426   2.57893012 -33.7948927    9.36450641  98.88178726\n",
        "   43.30933826  18.71636849]]\n",
        "Fold: 4, BestDegree: 3, TrainErr: 1.729096, TestErr: 1.009827"
       ]
      },
      {
       "output_type": "stream",
       "stream": "stdout",
       "text": [
        "\n",
        "Weights:  [[ -2.41149755   3.12510757 -33.56243532   8.12204179  97.66931767\n",
        "   44.48842218  19.23064696]]\n",
        "Mean TrainErr: 1.742876\n",
        "StdDev TrainErr: 0.268014\n",
        "Mean TestErr: 2.511892\n",
        "StdDev TestErr: 1.455499\n",
        "delta:  0.7\n",
        "Fold: 0, BestDegree: 3, TrainErr: 1.558643, TestErr: 2.513663"
       ]
      },
      {
       "output_type": "stream",
       "stream": "stdout",
       "text": [
        "\n",
        "Weights:  [[ -2.44325541   4.70184647 -31.65613349  -1.2117214   94.35775391\n",
        "   51.74521975  21.18890754]]\n",
        "Fold: 1, BestDegree: 3, TrainErr: 1.160628, TestErr: 1.194871"
       ]
      },
      {
       "output_type": "stream",
       "stream": "stdout",
       "text": [
        "\n",
        "Weights:  [[  -2.56652024    1.26021645  -32.94904482    4.64360758  105.94539654\n",
        "    47.29099334   12.19650795]]\n",
        "Fold: 2, BestDegree: 3, TrainErr: 1.766346, TestErr: 3.621870"
       ]
      },
      {
       "output_type": "stream",
       "stream": "stdout",
       "text": [
        "\n",
        "Weights:  [[ -2.70318206   6.7969659  -33.49954818   5.02597585  90.17033664\n",
        "   47.04119578  23.57078742]]\n",
        "Fold: 3, BestDegree: 3, TrainErr: 1.133627, TestErr: 1.848960"
       ]
      },
      {
       "output_type": "stream",
       "stream": "stdout",
       "text": [
        "\n",
        "Weights:  [[  -2.75246492    1.48439568  -33.42535928    7.45051523  104.308374\n",
        "    45.02309909   13.97458447]]\n",
        "Fold: 4, BestDegree: 3, TrainErr: 1.413419, TestErr: 0.836119"
       ]
      },
      {
       "output_type": "stream",
       "stream": "stdout",
       "text": [
        "\n",
        "Weights:  [[  -2.52903006    1.86190421  -33.3469634     6.91572274  103.4131862\n",
        "    45.61940769   14.29554321]]\n",
        "Mean TrainErr: 1.406532\n",
        "StdDev TrainErr: 0.239832\n",
        "Mean TestErr: 2.003097\n",
        "StdDev TestErr: 0.991961\n",
        "delta:  0.8\n",
        "Fold: 0, BestDegree: 3, TrainErr: 1.279554, TestErr: 2.062394"
       ]
      },
      {
       "output_type": "stream",
       "stream": "stdout",
       "text": [
        "\n",
        "Weights:  [[ -2.42622581   3.20608868 -31.46867737  -2.03402811  99.55342566\n",
        "   52.53740169  17.10579735]]\n",
        "Fold: 1, BestDegree: 3, TrainErr: 0.956859, TestErr: 1.242646"
       ]
      },
      {
       "output_type": "stream",
       "stream": "stdout",
       "text": [
        "\n",
        "Weights:  [[  -2.59034959    0.54129181  -32.67318993    3.3138139   110.57631731\n",
        "    48.42411891    7.68447937]]\n",
        "Fold: 2, BestDegree: 3, TrainErr: 1.540558, TestErr: 2.556984"
       ]
      },
      {
       "output_type": "stream",
       "stream": "stdout",
       "text": [
        "\n",
        "Weights:  [[ -2.61454207   5.12968241 -33.08085482   3.58453023  95.01379699\n",
        "   48.14991815  20.05663585]]\n",
        "Fold: 3, BestDegree: 3, TrainErr: 0.983097, TestErr: 1.606813"
       ]
      },
      {
       "output_type": "stream",
       "stream": "stdout",
       "text": [
        "\n",
        "Weights:  [[  -2.76183392    0.81859305  -33.0442323     5.74233371  108.25838974\n",
        "    46.50930407   10.25877842]]\n",
        "Fold: 4, BestDegree: 3, TrainErr: 1.197025, TestErr: 0.727990"
       ]
      },
      {
       "output_type": "stream",
       "stream": "stdout",
       "text": [
        "\n",
        "Weights:  [[  -2.60281994    1.10037953  -33.1565804     5.79103818  107.52182626\n",
        "    46.57621624   10.25029369]]\n",
        "Mean TrainErr: 1.191419\n",
        "StdDev TrainErr: 0.213595\n",
        "Mean TestErr: 1.639365\n",
        "StdDev TestErr: 0.634039\n",
        "delta:  0.9\n",
        "Fold: 0, BestDegree: 3, TrainErr: 1.103171, TestErr: 1.755372"
       ]
      },
      {
       "output_type": "stream",
       "stream": "stdout",
       "text": [
        "\n",
        "Weights:  [[  -2.41003288    1.95137514  -31.37798772   -2.53115285  103.93522387\n",
        "    53.06951657   13.65698423]]\n",
        "Fold: 1, BestDegree: 3, TrainErr: 0.854892, TestErr: 1.322478"
       ]
      },
      {
       "output_type": "stream",
       "stream": "stdout",
       "text": [
        "\n",
        "Weights:  [[ -2.58566982e+00  -1.11210098e-01  -3.25557528e+01   2.23653180e+00\n",
        "    1.14247426e+02   4.94208766e+01   4.26083982e+00]]\n",
        "Fold: 2, BestDegree: 3, TrainErr: 1.380305, TestErr: 1.902672"
       ]
      },
      {
       "output_type": "stream",
       "stream": "stdout",
       "text": [
        "\n",
        "Weights:  [[ -2.61895476   3.98116556 -32.84330403   2.61750253  99.12921661\n",
        "   49.05287931  16.82373606]]\n",
        "Fold: 3, BestDegree: 3, TrainErr: 0.903557, TestErr: 1.482026"
       ]
      },
      {
       "output_type": "stream",
       "stream": "stdout",
       "text": [
        "\n",
        "Weights:  [[  -2.74184888    0.13192472  -32.74231029    4.20701938  111.42738633\n",
        "    47.87207756    7.50540853]]\n",
        "Fold: 4, BestDegree: 3, TrainErr: 1.101511, TestErr: 0.651413"
       ]
      },
      {
       "output_type": "stream",
       "stream": "stdout",
       "text": [
        "\n",
        "Weights:  [[  -2.64394655    0.34154662  -32.99026664    4.74861575  110.71302719\n",
        "    47.46378521    7.51483924]]\n",
        "Mean TrainErr: 1.068687\n",
        "StdDev TrainErr: 0.185660\n",
        "Mean TestErr: 1.422792\n",
        "StdDev TestErr: 0.435773\n",
        "delta:  1.0\n",
        "Fold: 0, BestDegree: 3, TrainErr: 0.995168, TestErr: 1.548255"
       ]
      },
      {
       "output_type": "stream",
       "stream": "stdout",
       "text": [
        "\n",
        "Weights:  [[  -2.40476882    0.94278131  -31.33371564   -2.918861    107.64624661\n",
        "    53.51675792   10.68338229]]\n",
        "Fold: 1, BestDegree: 3, TrainErr: 0.805176, TestErr: 1.415618"
       ]
      },
      {
       "output_type": "stream",
       "stream": "stdout",
       "text": [
        "\n",
        "Weights:  [[  -2.59345707   -0.43991631  -32.42968834    1.32145619  116.74731552\n",
        "    50.20988916    1.77058258]]\n",
        "Fold: 2, BestDegree: 3, TrainErr: 1.264537, TestErr: 1.446653"
       ]
      },
      {
       "output_type": "stream",
       "stream": "stdout",
       "text": [
        "\n",
        "Weights:  [[  -2.62146092    3.04864397  -32.66761266    1.88563698  102.61686125\n",
        "    49.74861042   14.00014855]]\n",
        "Fold: 3, BestDegree: 3, TrainErr: 0.865340, TestErr: 1.421899"
       ]
      },
      {
       "output_type": "stream",
       "stream": "stdout",
       "text": [
        "\n",
        "Weights:  [[  -2.72223415   -0.4314246   -32.5288066     2.86091802  113.84833888\n",
        "    49.09143309    5.52958979]]\n",
        "Fold: 4, BestDegree: 3, TrainErr: 1.053192, TestErr: 0.598814"
       ]
      },
      {
       "output_type": "stream",
       "stream": "stdout",
       "text": [
        "\n",
        "Weights:  [[  -2.6621857    -0.2386873   -32.88716636    3.75808691  113.05251593\n",
        "    48.35926592    5.57295799]]\n",
        "Mean TrainErr: 0.996683\n",
        "StdDev TrainErr: 0.160541\n",
        "Mean TestErr: 1.286248\n",
        "StdDev TestErr: 0.347010\n",
        "delta:  1.1\n",
        "Fold: 0, BestDegree: 3, TrainErr: 0.935449, TestErr: 1.425579"
       ]
      },
      {
       "output_type": "stream",
       "stream": "stdout",
       "text": [
        "\n",
        "Weights:  [[ -2.36526752e+00   2.32896794e-02  -3.13442472e+01  -3.14098537e+00\n",
        "    1.10768384e+02   5.38064736e+01   8.24170582e+00]]\n",
        "Fold: 1, BestDegree: 3, TrainErr: 0.783807, TestErr: 1.498381"
       ]
      },
      {
       "output_type": "stream",
       "stream": "stdout",
       "text": [
        "\n",
        "Weights:  [[ -2.59801181e+00  -6.54874465e-01  -3.22882798e+01   5.77244248e-01\n",
        "    1.18461642e+02   5.08105734e+01   4.64355139e-02]]\n",
        "Fold: 2, BestDegree: 3, TrainErr: 1.194632, TestErr: 1.181349"
       ]
      },
      {
       "output_type": "stream",
       "stream": "stdout",
       "text": [
        "\n",
        "Weights:  [[  -2.61347729    2.38703441  -32.55335438    1.2012133   105.27658239\n",
        "    50.38604766   11.81144048]]\n",
        "Fold: 3, BestDegree: 3, TrainErr: 0.842301, TestErr: 1.376257"
       ]
      },
      {
       "output_type": "stream",
       "stream": "stdout",
       "text": [
        "\n",
        "Weights:  [[  -2.71748323   -0.72997386  -32.26355999    1.65732334  115.45720252\n",
        "    50.02644234    4.11895354]]\n",
        "Fold: 4, BestDegree: 3, TrainErr: 1.027452, TestErr: 0.562037"
       ]
      },
      {
       "output_type": "stream",
       "stream": "stdout",
       "text": [
        "\n",
        "Weights:  [[  -2.68720014   -0.54908866  -32.78154771    2.85741351  114.63696105\n",
        "    49.14455496    4.17343845]]\n",
        "Mean TrainErr: 0.956728\n",
        "StdDev TrainErr: 0.144947\n",
        "Mean TestErr: 1.208721\n",
        "StdDev TestErr: 0.339985\n",
        "delta:  1.2\n",
        "Fold: 0, BestDegree: 3, TrainErr: 0.905378, TestErr: 1.345285"
       ]
      },
      {
       "output_type": "stream",
       "stream": "stdout",
       "text": [
        "\n",
        "Weights:  [[  -2.36968117   -0.47148026  -31.34715668   -3.26735153  112.97514418\n",
        "    53.92251043    6.37190896]]\n",
        "Fold: 1, BestDegree: 3, TrainErr: 0.774149, TestErr: 1.564851"
       ]
      },
      {
       "output_type": "stream",
       "stream": "stdout",
       "text": [
        "\n",
        "Weights:  [[ -2.60815228e+00  -8.11768333e-01  -3.21580008e+01   8.15495575e-03\n",
        "    1.19727365e+02   5.12543461e+01  -1.22189017e+00]]\n",
        "Fold: 2, BestDegree: 3, TrainErr: 1.156716, TestErr: 1.027953"
       ]
      },
      {
       "output_type": "stream",
       "stream": "stdout",
       "text": [
        "\n",
        "Weights:  [[  -2.60912744    1.91527711  -32.47261811    0.69858569  107.14816611\n",
        "    50.8304368    10.310168  ]]\n",
        "Fold: 3, BestDegree: 3, TrainErr: 0.832879, TestErr: 1.347736"
       ]
      },
      {
       "output_type": "stream",
       "stream": "stdout",
       "text": [
        "\n",
        "Weights:  [[  -2.71148175   -0.90344976  -32.10270967    0.84949665  116.53711663\n",
        "    50.66191715    3.14888785]]\n",
        "Fold: 4, BestDegree: 3, TrainErr: 1.012265, TestErr: 0.542345"
       ]
      },
      {
       "output_type": "stream",
       "stream": "stdout",
       "text": [
        "\n",
        "Weights:  [[  -2.69665429   -0.72938083  -32.64974125    2.17431548  115.63238558\n",
        "    49.71936545    3.27608236]]\n",
        "Mean TrainErr: 0.936277\n",
        "StdDev TrainErr: 0.135867\n",
        "Mean TestErr: 1.165634\n",
        "StdDev TestErr: 0.355600\n",
        "delta:  1.3\n",
        "Fold: 0, BestDegree: 3, TrainErr: 0.894005, TestErr: 1.304217"
       ]
      },
      {
       "output_type": "stream",
       "stream": "stdout",
       "text": [
        "\n",
        "Weights:  [[  -2.37303734   -0.75802472  -31.36996913   -3.37100775  114.34616995\n",
        "    54.03176962    5.21049961]]\n",
        "Fold: 1, BestDegree: 3, TrainErr: 0.771075, TestErr: 1.624576"
       ]
      },
      {
       "output_type": "stream",
       "stream": "stdout",
       "text": [
        "\n",
        "Weights:  [[  -2.61646664   -0.92851383  -32.08817851   -0.35574877  120.71234814\n",
        "    51.55371276   -2.2170438 ]]\n",
        "Fold: 2, BestDegree: 3, TrainErr: 1.133689, TestErr: 0.926542"
       ]
      },
      {
       "output_type": "stream",
       "stream": "stdout",
       "text": [
        "\n",
        "Weights:  [[  -2.60251148    1.55497545  -32.41472328    0.27380129  108.5468787\n",
        "    51.2186941     9.2061703 ]]\n",
        "Fold: 3, BestDegree: 3, TrainErr: 0.829338, TestErr: 1.334338"
       ]
      },
      {
       "output_type": "stream",
       "stream": "stdout",
       "text": [
        "\n",
        "Weights:  [[  -2.70815485   -1.03324774  -32.0012692     0.29976552  117.31221275\n",
        "    51.0973069     2.47716696]]\n",
        "Fold: 4, BestDegree: 3, TrainErr: 1.004215, TestErr: 0.530634"
       ]
      },
      {
       "output_type": "stream",
       "stream": "stdout",
       "text": [
        "\n",
        "Weights:  [[  -2.7058161    -0.85328676  -32.57781638    1.71405136  116.30809132\n",
        "    50.12726634    2.67343007]]\n",
        "Mean TrainErr: 0.926464\n",
        "StdDev TrainErr: 0.129321\n",
        "Mean TestErr: 1.144061\n",
        "StdDev TestErr: 0.378512\n",
        "delta:  1.4\n",
        "Fold: 0, BestDegree: 3, TrainErr: 0.890611, TestErr: 1.281881"
       ]
      },
      {
       "output_type": "stream",
       "stream": "stdout",
       "text": [
        "\n",
        "Weights:  [[  -2.37461431   -0.96520845  -31.40993251   -3.40107712  115.28614276\n",
        "    54.09243581    4.44383862]]\n",
        "Fold: 1, BestDegree: 3, TrainErr: 0.772204, TestErr: 1.668865"
       ]
      },
      {
       "output_type": "stream",
       "stream": "stdout",
       "text": [
        "\n",
        "Weights:  [[  -2.6292668    -1.02871456  -32.04016044   -0.54885139  121.49803731\n",
        "    51.71076797   -2.97539997]]\n",
        "Fold: 2, BestDegree: 3, TrainErr: 1.118500, TestErr: 0.854427"
       ]
      },
      {
       "output_type": "stream",
       "stream": "stdout",
       "text": [
        "\n",
        "Weights:  [[  -2.59395617    1.26340302  -32.36676959   -0.11896861  109.67076333\n",
        "    51.5823556     8.32591881]]\n",
        "Fold: 3, BestDegree: 3, TrainErr: 0.829039, TestErr: 1.327666"
       ]
      },
      {
       "output_type": "stream",
       "stream": "stdout",
       "text": [
        "\n",
        "Weights:  [[ -2.70302421e+00  -1.14188566e+00  -3.19435047e+01  -8.59750014e-02\n",
        "    1.17907966e+02   5.14120924e+01   1.97999519e+00]]\n",
        "Fold: 4, BestDegree: 3, TrainErr: 0.999899, TestErr: 0.523818"
       ]
      },
      {
       "output_type": "stream",
       "stream": "stdout",
       "text": [
        "\n",
        "Weights:  [[  -2.71834227   -0.95342949  -32.55233446    1.43190249  116.82255747\n",
        "    50.40267781    2.23085912]]\n",
        "Mean TrainErr: 0.922051\n",
        "StdDev TrainErr: 0.123892\n",
        "Mean TestErr: 1.131332\n",
        "StdDev TestErr: 0.398974\n",
        "delta:  1.5\n",
        "Fold: 0, BestDegree: 3, TrainErr: 0.888898, TestErr: 1.268959"
       ]
      },
      {
       "output_type": "stream",
       "stream": "stdout",
       "text": [
        "\n",
        "Weights:  [[  -2.37817814   -1.12818049  -31.4464997    -3.40874988  115.98539448\n",
        "    54.12537009    3.89352862]]\n",
        "Fold: 1, BestDegree: 3, TrainErr: 0.773741, TestErr: 1.692064"
       ]
      },
      {
       "output_type": "stream",
       "stream": "stdout",
       "text": [
        "\n",
        "Weights:  [[  -2.64048997   -1.13284478  -32.02747623   -0.60834663  122.07579201\n",
        "    51.77381533   -3.47831857]]\n",
        "Fold: 2, BestDegree: 3, TrainErr: 1.106493, TestErr: 0.798955"
       ]
      },
      {
       "output_type": "stream",
       "stream": "stdout",
       "text": [
        "\n",
        "Weights:  [[  -2.58344483    1.0243908   -32.33957445   -0.4371009   110.60431482\n",
        "    51.89173502    7.57628843]]\n",
        "Fold: 3, BestDegree: 3, TrainErr: 0.829708, TestErr: 1.324984"
       ]
      },
      {
       "output_type": "stream",
       "stream": "stdout",
       "text": [
        "\n",
        "Weights:  [[  -2.70037374   -1.22659411  -31.90861564   -0.35124883  118.35888698\n",
        "    51.63073952    1.61265158]]\n",
        "Fold: 4, BestDegree: 3, TrainErr: 0.998241, TestErr: 0.520294"
       ]
      },
      {
       "output_type": "stream",
       "stream": "stdout",
       "text": [
        "\n",
        "Weights:  [[  -2.73438412   -1.04321823  -32.55674038    1.26122706  117.2398553\n",
        "    50.59725029    1.88807588]]\n",
        "Mean TrainErr: 0.919416\n",
        "StdDev TrainErr: 0.119508\n",
        "Mean TestErr: 1.121051\n",
        "StdDev TestErr: 0.413322\n",
        "delta:  1.6\n",
        "Fold: 0, BestDegree: 3, TrainErr: 0.887533, TestErr: 1.260620"
       ]
      },
      {
       "output_type": "stream",
       "stream": "stdout",
       "text": [
        "\n",
        "Weights:  [[  -2.38420238   -1.26257186  -31.47916496   -3.39708839  116.52832156\n",
        "    54.13721259    3.48144487]]\n",
        "Fold: 1, BestDegree: 3, TrainErr: 0.773750, TestErr: 1.707791"
       ]
      },
      {
       "output_type": "stream",
       "stream": "stdout",
       "text": [
        "\n",
        "Weights:  [[  -2.65156808   -1.21298234  -32.04234983   -0.58594732  122.48586658\n",
        "    51.78306907   -3.83474053]]\n",
        "Fold: 2, BestDegree: 3, TrainErr: 1.096044, TestErr: 0.753551"
       ]
      },
      {
       "output_type": "stream",
       "stream": "stdout",
       "text": [
        "\n",
        "Weights:  [[  -2.5833492     0.82328602  -32.31610009   -0.63458026  111.4117357\n",
        "    52.08226612    6.92144411]]\n",
        "Fold: 3, BestDegree: 3, TrainErr: 0.828654, TestErr: 1.324944"
       ]
      },
      {
       "output_type": "stream",
       "stream": "stdout",
       "text": [
        "\n",
        "Weights:  [[  -2.70368975   -1.30543349  -31.88466361   -0.53487109  118.73162549\n",
        "    51.77924233    1.32189976]]\n",
        "Fold: 4, BestDegree: 3, TrainErr: 0.999278, TestErr: 0.519766"
       ]
      },
      {
       "output_type": "stream",
       "stream": "stdout",
       "text": [
        "\n",
        "Weights:  [[  -2.75446564   -1.12504887  -32.56958718    1.16584365  117.55471303\n",
        "    50.72749861    1.6442186 ]]\n",
        "Mean TrainErr: 0.917052\n",
        "StdDev TrainErr: 0.116636\n",
        "Mean TestErr: 1.113334\n",
        "StdDev TestErr: 0.424645\n",
        "delta:  1.7\n",
        "Fold: 0, BestDegree: 3, TrainErr: 0.886546, TestErr: 1.252792"
       ]
      },
      {
       "output_type": "stream",
       "stream": "stdout",
       "text": [
        "\n",
        "Weights:  [[  -2.39343685   -1.37316171  -31.5018874    -3.3514356   116.96381453\n",
        "    54.11162453    3.15507129]]\n",
        "Fold: 1, BestDegree: 3, TrainErr: 0.774194, TestErr: 1.718590"
       ]
      },
      {
       "output_type": "stream",
       "stream": "stdout",
       "text": [
        "\n",
        "Weights:  [[  -2.66013111   -1.2747639   -32.06916938   -0.5310231   122.78367428\n",
        "    51.77491296   -4.08901331]]\n",
        "Fold: 2, BestDegree: 3, TrainErr: 1.087089, TestErr: 0.715655"
       ]
      },
      {
       "output_type": "stream",
       "stream": "stdout",
       "text": [
        "\n",
        "Weights:  [[  -2.58821124    0.65557364  -32.30800185   -0.72375341  112.10217826\n",
        "    52.18485149    6.35274227]]\n",
        "Fold: 3, BestDegree: 3, TrainErr: 0.827356, TestErr: 1.320667"
       ]
      },
      {
       "output_type": "stream",
       "stream": "stdout",
       "text": [
        "\n",
        "Weights:  [[  -2.70551655   -1.36294062  -31.86263839   -0.68233633  119.05682131\n",
        "    51.88716531    1.03909859]]\n",
        "Fold: 4, BestDegree: 3, TrainErr: 1.002745, TestErr: 0.521974"
       ]
      },
      {
       "output_type": "stream",
       "stream": "stdout",
       "text": [
        "\n",
        "Weights:  [[  -2.77945014   -1.19692138  -32.58462839    1.11082939  117.81716564\n",
        "    50.82062605    1.43797106]]\n",
        "Mean TrainErr: 0.915586\n",
        "StdDev TrainErr: 0.114568\n",
        "Mean TestErr: 1.105935\n",
        "StdDev TestErr: 0.432747\n",
        "delta:  1.8\n",
        "Fold: 0, BestDegree: 3, TrainErr: 0.886290, TestErr: 1.243571"
       ]
      },
      {
       "output_type": "stream",
       "stream": "stdout",
       "text": [
        "\n",
        "Weights:  [[  -2.40289201   -1.46338566  -31.50950317   -3.30954866  117.32316227\n",
        "    54.08959106    2.8768548 ]]\n",
        "Fold: 1, BestDegree: 3, TrainErr: 0.774242, TestErr: 1.723625"
       ]
      },
      {
       "output_type": "stream",
       "stream": "stdout",
       "text": [
        "\n",
        "Weights:  [[  -2.6696351    -1.33023746  -32.103504     -0.44753123  123.03132075\n",
        "    51.73119203   -4.27727727]]\n",
        "Fold: 2, BestDegree: 3, TrainErr: 1.078619, TestErr: 0.684336"
       ]
      },
      {
       "output_type": "stream",
       "stream": "stdout",
       "text": [
        "\n",
        "Weights:  [[  -2.59488006    0.51942599  -32.30256939   -0.75639284  112.70886446\n",
        "    52.2233895     5.83031433]]\n",
        "Fold: 3, BestDegree: 3, TrainErr: 0.826322, TestErr: 1.315584"
       ]
      },
      {
       "output_type": "stream",
       "stream": "stdout",
       "text": [
        "\n",
        "Weights:  [[  -2.70596854   -1.40625493  -31.84606959   -0.80921239  119.32619551\n",
        "    51.982181      0.79370358]]\n",
        "Fold: 4, BestDegree: 3, TrainErr: 1.005764, TestErr: 0.525633"
       ]
      },
      {
       "output_type": "stream",
       "stream": "stdout",
       "text": [
        "\n",
        "Weights:  [[  -2.80303029   -1.24766504  -32.59099398    1.08926363  118.10484673\n",
        "    50.86473928    1.15537972]]\n",
        "Mean TrainErr: 0.914247\n",
        "StdDev TrainErr: 0.112701\n",
        "Mean TestErr: 1.098550\n",
        "StdDev TestErr: 0.437872\n",
        "delta:  1.9\n",
        "Fold: 0, BestDegree: 3, TrainErr: 0.886016, TestErr: 1.234440"
       ]
      },
      {
       "output_type": "stream",
       "stream": "stdout",
       "text": [
        "\n",
        "Weights:  [[  -2.40510003   -1.52303873  -31.51032288   -3.30840138  117.58112264\n",
        "    54.10828578    2.64870446]]\n",
        "Fold: 1, BestDegree: 3, TrainErr: 0.774998, TestErr: 1.724015"
       ]
      },
      {
       "output_type": "stream",
       "stream": "stdout",
       "text": [
        "\n",
        "Weights:  [[  -2.67729641   -1.37251305  -32.14053183   -0.350457    123.19584281\n",
        "    51.68436881   -4.38711797]]\n",
        "Fold: 2, BestDegree: 3, TrainErr: 1.070813, TestErr: 0.657618"
       ]
      },
      {
       "output_type": "stream",
       "stream": "stdout",
       "text": [
        "\n",
        "Weights:  [[  -2.60257202    0.41078592  -32.29924393   -0.7594388   113.24302079\n",
        "    52.23855328    5.34781781]]\n",
        "Fold: 3, BestDegree: 3, TrainErr: 0.826094, TestErr: 1.311272"
       ]
      },
      {
       "output_type": "stream",
       "stream": "stdout",
       "text": [
        "\n",
        "Weights:  [[  -2.70861099   -1.44263066  -31.84021695   -0.89346349  119.58149741\n",
        "    52.06077803    0.55477095]]\n",
        "Fold: 4, BestDegree: 3, TrainErr: 1.010400, TestErr: 0.531398"
       ]
      },
      {
       "output_type": "stream",
       "stream": "stdout",
       "text": [
        "\n",
        "Weights:  [[  -2.82896476   -1.29187634  -32.5986612     1.09694035  118.39669223\n",
        "    50.88037608    0.84909182]]\n",
        "Mean TrainErr: 0.913664\n",
        "StdDev TrainErr: 0.111099\n",
        "Mean TestErr: 1.091749\n",
        "StdDev TestErr: 0.440630\n",
        "delta:  2.0\n",
        "Fold: 0, BestDegree: 3, TrainErr: 0.885604, TestErr: 1.225328"
       ]
      },
      {
       "output_type": "stream",
       "stream": "stdout",
       "text": [
        "\n",
        "Weights:  [[  -2.40709713   -1.56384891  -31.50457353   -3.3256255   117.79060309\n",
        "    54.13834094    2.44733809]]\n",
        "Fold: 1, BestDegree: 3, TrainErr: 0.775705, TestErr: 1.722072"
       ]
      },
      {
       "output_type": "stream",
       "stream": "stdout",
       "text": [
        "\n",
        "Weights:  [[  -2.68431404   -1.4046816   -32.17889195   -0.24623806  123.30753692\n",
        "    51.63227654   -4.45048056]]\n",
        "Fold: 2, BestDegree: 3, TrainErr: 1.063821, TestErr: 0.634500"
       ]
      },
      {
       "output_type": "stream",
       "stream": "stdout",
       "text": [
        "\n",
        "Weights:  [[  -2.61030647    0.32641579  -32.29217233   -0.7623884   113.70685579\n",
        "    52.26038889    4.90678933]]\n",
        "Fold: 3, BestDegree: 3, TrainErr: 0.826080, TestErr: 1.307321"
       ]
      },
      {
       "output_type": "stream",
       "stream": "stdout",
       "text": [
        "\n",
        "Weights:  [[  -2.71314958   -1.46862952  -31.8333477    -0.96127218  119.81132527\n",
        "    52.12835582    0.33005023]]\n",
        "Fold: 4, BestDegree: 3, TrainErr: 1.016336, TestErr: 0.538293"
       ]
      },
      {
       "output_type": "stream",
       "stream": "stdout",
       "text": [
        "\n",
        "Weights:  [[  -2.85521608   -1.33008437  -32.60969088    1.14145332  118.69868391\n",
        "    50.855944      0.51794767]]\n",
        "Mean TrainErr: 0.913509\n",
        "StdDev TrainErr: 0.110072\n",
        "Mean TestErr: 1.085503\n",
        "StdDev TestErr: 0.441999\n",
        "delta:  2.1\n",
        "Fold: 0, BestDegree: 3, TrainErr: 0.885435, TestErr: 1.217166"
       ]
      },
      {
       "output_type": "stream",
       "stream": "stdout",
       "text": [
        "\n",
        "Weights:  [[  -2.40879978   -1.59902891  -31.49989231   -3.3384256   117.9732727\n",
        "    54.16465545    2.26915917]]\n",
        "Fold: 1, BestDegree: 3, TrainErr: 0.776420, TestErr: 1.719094"
       ]
      },
      {
       "output_type": "stream",
       "stream": "stdout",
       "text": [
        "\n",
        "Weights:  [[  -2.69124548   -1.43130671  -32.21978551   -0.13048029  123.39084189\n",
        "    51.57120175   -4.48874157]]\n",
        "Fold: 2, BestDegree: 3, TrainErr: 1.057601, TestErr: 0.614802"
       ]
      },
      {
       "output_type": "stream",
       "stream": "stdout",
       "text": [
        "\n",
        "Weights:  [[  -2.6178185     0.26105905  -32.28076493   -0.77659736  114.11139386\n",
        "    52.29456962    4.50338185]]\n",
        "Fold: 3, BestDegree: 3, TrainErr: 0.826227, TestErr: 1.303803"
       ]
      },
      {
       "output_type": "stream",
       "stream": "stdout",
       "text": [
        "\n",
        "Weights:  [[  -2.71767257   -1.49150896  -31.82910255   -1.01688123  120.02320996\n",
        "    52.18599201    0.12164718]]\n",
        "Fold: 4, BestDegree: 3, TrainErr: 1.023404, TestErr: 0.544637"
       ]
      },
      {
       "output_type": "stream",
       "stream": "stdout",
       "text": [
        "\n",
        "Weights:  [[  -2.87853269   -1.37822565  -32.61763144    1.18398278  118.96520631\n",
        "    50.82524064    0.25042234]]\n",
        "Mean TrainErr: 0.913817\n",
        "StdDev TrainErr: 0.109580\n",
        "Mean TestErr: 1.079900\n",
        "StdDev TestErr: 0.442802\n",
        "delta:  2.2\n",
        "Fold: 0, BestDegree: 3, TrainErr: 0.885461, TestErr: 1.209717"
       ]
      },
      {
       "output_type": "stream",
       "stream": "stdout",
       "text": [
        "\n",
        "Weights:  [[  -2.41031115   -1.63008583  -31.4962091    -3.34702391  118.13627367\n",
        "    54.18744409    2.10801021]]\n",
        "Fold: 1, BestDegree: 3, TrainErr: 0.776985, TestErr: 1.716081"
       ]
      },
      {
       "output_type": "stream",
       "stream": "stdout",
       "text": [
        "\n",
        "Weights:  [[ -2.70000675e+00  -1.45426698e+00  -3.22589801e+01   1.17385305e-04\n",
        "    1.23466643e+02   5.14920326e+01  -4.52198789e+00]]\n",
        "Fold: 2, BestDegree: 3, TrainErr: 1.052378, TestErr: 0.597746"
       ]
      },
      {
       "output_type": "stream",
       "stream": "stdout",
       "text": [
        "\n",
        "Weights:  [[  -2.62529971    0.20347014  -32.27146315   -0.78210226  114.48436728\n",
        "    52.32129788    4.12612891]]\n",
        "Fold: 3, BestDegree: 3, TrainErr: 0.826511, TestErr: 1.300622"
       ]
      },
      {
       "output_type": "stream",
       "stream": "stdout",
       "text": [
        "\n",
        "Weights:  [[ -2.72223486e+00  -1.51218944e+00  -3.18270121e+01  -1.06245787e+00\n",
        "    1.20222502e+02   5.22354534e+01  -7.52927447e-02]]\n",
        "Fold: 4, BestDegree: 3, TrainErr: 1.031472, TestErr: 0.552029"
       ]
      },
      {
       "output_type": "stream",
       "stream": "stdout",
       "text": [
        "\n",
        "Weights:  [[ -2.89859321e+00  -1.41542655e+00  -3.26247630e+01   1.21511280e+00\n",
        "    1.19161062e+02   5.08080014e+01   4.72910801e-02]]\n",
        "Mean TrainErr: 0.914561\n",
        "StdDev TrainErr: 0.109716\n",
        "Mean TestErr: 1.075239\n",
        "StdDev TestErr: 0.443014\n",
        "delta:  2.3\n",
        "Fold: 0, BestDegree: 3, TrainErr: 0.885653, TestErr: 1.202824"
       ]
      },
      {
       "output_type": "stream",
       "stream": "stdout",
       "text": [
        "\n",
        "Weights:  [[  -2.41168809   -1.65813147  -31.49330138   -3.35234576  118.28490234\n",
        "    54.20748782    1.95930959]]\n",
        "Fold: 1, BestDegree: 3, TrainErr: 0.777328, TestErr: 1.713745"
       ]
      },
      {
       "output_type": "stream",
       "stream": "stdout",
       "text": [
        "\n",
        "Weights:  [[ -2.70932418e+00  -1.46786189e+00  -3.22882766e+01   1.10572275e-01\n",
        "    1.23526480e+02   5.14206966e+01  -4.55133280e+00]]\n",
        "Fold: 2, BestDegree: 3, TrainErr: 1.047996, TestErr: 0.582695"
       ]
      },
      {
       "output_type": "stream",
       "stream": "stdout",
       "text": [
        "\n",
        "Weights:  [[  -2.63285814    0.15110878  -32.26427648   -0.77836016  114.83612107\n",
        "    52.34014678    3.76646771]]\n",
        "Fold: 3, BestDegree: 3, TrainErr: 0.826876, TestErr: 1.297585"
       ]
      },
      {
       "output_type": "stream",
       "stream": "stdout",
       "text": [
        "\n",
        "Weights:  [[  -2.72692212   -1.53054101  -31.82597762   -1.10006288  120.41181721\n",
        "    52.27758098   -0.26442327]]\n",
        "Fold: 4, BestDegree: 3, TrainErr: 1.040489, TestErr: 0.560375"
       ]
      },
      {
       "output_type": "stream",
       "stream": "stdout",
       "text": [
        "\n",
        "Weights:  [[  -2.91726765   -1.44536922  -32.63224055    1.244159    119.32071763\n",
        "    50.79408717   -0.12550968]]\n",
        "Mean TrainErr: 0.915669\n",
        "StdDev TrainErr: 0.110466\n",
        "Mean TestErr: 1.071445\n",
        "StdDev TestErr: 0.442949\n",
        "delta:  2.4\n",
        "Fold: 0, BestDegree: 3, TrainErr: 0.885400, TestErr: 1.194486"
       ]
      },
      {
       "output_type": "stream",
       "stream": "stdout",
       "text": [
        "\n",
        "Weights:  [[  -2.41499824   -1.67507624  -31.48722747   -3.3402391   118.41539935\n",
        "    54.20520221    1.8131154 ]]\n",
        "Fold: 1, BestDegree: 3, TrainErr: 0.777660, TestErr: 1.711294"
       ]
      },
      {
       "output_type": "stream",
       "stream": "stdout",
       "text": [
        "\n",
        "Weights:  [[  -2.71869262   -1.47838439  -32.31656499    0.22055022  123.57582944\n",
        "    51.34841975   -4.57309547]]\n",
        "Fold: 2, BestDegree: 3, TrainErr: 1.044001, TestErr: 0.569189"
       ]
      },
      {
       "output_type": "stream",
       "stream": "stdout",
       "text": [
        "\n",
        "Weights:  [[ -2.64170340e+00   1.08625696e-01  -3.22548124e+01  -7.61939767e-01\n",
        "    1.15167662e+02   5.23432951e+01   3.41371691e+00]]\n",
        "Fold: 3, BestDegree: 3, TrainErr: 0.826848, TestErr: 1.293182"
       ]
      },
      {
       "output_type": "stream",
       "stream": "stdout",
       "text": [
        "\n",
        "Weights:  [[  -2.73378428   -1.53776907  -31.82247747   -1.10729554  120.58637835\n",
        "    52.28348488   -0.45726126]]\n",
        "Fold: 4, BestDegree: 3, TrainErr: 1.050729, TestErr: 0.569834"
       ]
      },
      {
       "output_type": "stream",
       "stream": "stdout",
       "text": [
        "\n",
        "Weights:  [[  -2.93678303   -1.46836699  -32.63792742    1.28561417  119.46381374\n",
        "    50.76472293   -0.29205119]]\n",
        "Mean TrainErr: 0.916928\n",
        "StdDev TrainErr: 0.111852\n",
        "Mean TestErr: 1.067597\n",
        "StdDev TestErr: 0.442157\n",
        "delta:  2.5\n",
        "Fold: 0, BestDegree: 3, TrainErr: 0.885090, TestErr: 1.185825"
       ]
      },
      {
       "output_type": "stream",
       "stream": "stdout",
       "text": [
        "\n",
        "Weights:  [[  -2.41919139   -1.68669073  -31.48252532   -3.31086427  118.5326654\n",
        "    54.18588782    1.67386422]]\n",
        "Fold: 1, BestDegree: 3, TrainErr: 0.777956, TestErr: 1.705902"
       ]
      },
      {
       "output_type": "stream",
       "stream": "stdout",
       "text": [
        "\n",
        "Weights:  [[  -2.72459624   -1.48872864  -32.3363016     0.29054801  123.59026078\n",
        "    51.30861687   -4.55802612]]\n",
        "Fold: 2, BestDegree: 3, TrainErr: 1.040373, TestErr: 0.556995"
       ]
      },
      {
       "output_type": "stream",
       "stream": "stdout",
       "text": [
        "\n",
        "Weights:  [[ -2.65276340e+00   7.69406484e-02  -3.22457732e+01  -7.13878701e-01\n",
        "    1.15481147e+02   5.23134988e+01   3.06376159e+00]]\n",
        "Fold: 3, BestDegree: 3, TrainErr: 0.826958, TestErr: 1.289075"
       ]
      },
      {
       "output_type": "stream",
       "stream": "stdout",
       "text": [
        "\n",
        "Weights:  [[  -2.74088523   -1.54365912  -31.82226466   -1.09958968  120.75247918\n",
        "    52.277284     -0.64212453]]\n",
        "Fold: 4, BestDegree: 3, TrainErr: 1.062319, TestErr: 0.580661"
       ]
      },
      {
       "output_type": "stream",
       "stream": "stdout",
       "text": [
        "\n",
        "Weights:  [[  -2.9574399    -1.48422779  -32.64582303    1.35571574  119.58954188\n",
        "    50.70718659   -0.45117656]]\n",
        "Mean TrainErr: 0.918539\n",
        "StdDev TrainErr: 0.113830\n",
        "Mean TestErr: 1.063692\n",
        "StdDev TestErr: 0.440047\n",
        "delta:  2.6\n",
        "Fold: 0, BestDegree: 3, TrainErr: 0.884943, TestErr: 1.177557"
       ]
      },
      {
       "output_type": "stream",
       "stream": "stdout",
       "text": [
        "\n",
        "Weights:  [[  -2.42335601   -1.69670857  -31.4786573    -3.27791784  118.64218885\n",
        "    54.16363071    1.54137732]]\n",
        "Fold: 1, BestDegree: 3, TrainErr: 0.778272, TestErr: 1.699261"
       ]
      },
      {
       "output_type": "stream",
       "stream": "stdout",
       "text": [
        "\n",
        "Weights:  [[  -2.72870393   -1.49949284  -32.34919947    0.33051612  123.59247916\n",
        "    51.29287      -4.53002975]]\n",
        "Fold: 2, BestDegree: 3, TrainErr: 1.037670, TestErr: 0.546269"
       ]
      },
      {
       "output_type": "stream",
       "stream": "stdout",
       "text": [
        "\n",
        "Weights:  [[ -2.66308566e+00   4.74530110e-02  -3.22398524e+01  -6.56804908e-01\n",
        "    1.15776042e+02   5.22765603e+01   2.73181828e+00]]\n",
        "Fold: 3, BestDegree: 3, TrainErr: 0.827175, TestErr: 1.285293"
       ]
      },
      {
       "output_type": "stream",
       "stream": "stdout",
       "text": [
        "\n",
        "Weights:  [[  -2.74362442   -1.54731547  -31.81824661   -1.11931003  120.86783732\n",
        "    52.29386478   -0.77550896]]\n",
        "Fold: 4, BestDegree: 3, TrainErr: 1.074982, TestErr: 0.592432"
       ]
      },
      {
       "output_type": "stream",
       "stream": "stdout",
       "text": [
        "\n",
        "Weights:  [[  -2.97803484   -1.49832953  -32.65592567    1.43541905  119.7071275\n",
        "    50.64182943   -0.60334282]]\n",
        "Mean TrainErr: 0.920608\n",
        "StdDev TrainErr: 0.116444\n",
        "Mean TestErr: 1.060162\n",
        "StdDev TestErr: 0.437212\n",
        "delta:  2.7\n",
        "Fold: 0, BestDegree: 3, TrainErr: 0.884956, TestErr: 1.169642"
       ]
      },
      {
       "output_type": "stream",
       "stream": "stdout",
       "text": [
        "\n",
        "Weights:  [[  -2.42748551   -1.70551959  -31.47529358   -3.24282726  118.74588786\n",
        "    54.13960175    1.41396498]]\n",
        "Fold: 1, BestDegree: 3, TrainErr: 0.778576, TestErr: 1.695499"
       ]
      },
      {
       "output_type": "stream",
       "stream": "stdout",
       "text": [
        "\n",
        "Weights:  [[  -2.7311738    -1.51018551  -32.35270363    0.33618032  123.61273737\n",
        "    51.29868669   -4.52857986]]\n",
        "Fold: 2, BestDegree: 3, TrainErr: 1.036132, TestErr: 0.537241"
       ]
      },
      {
       "output_type": "stream",
       "stream": "stdout",
       "text": [
        "\n",
        "Weights:  [[ -2.66891072e+00   1.10966181e-02  -3.22319036e+01  -6.28203583e-01\n",
        "    1.16014921e+02   5.22605176e+01   2.48025036e+00]]\n",
        "Fold: 3, BestDegree: 3, TrainErr: 0.827417, TestErr: 1.284913"
       ]
      },
      {
       "output_type": "stream",
       "stream": "stdout",
       "text": [
        "\n",
        "Weights:  [[  -2.74464403   -1.56220503  -31.81267264   -1.1444292   120.94768153\n",
        "    52.31417711   -0.84575494]]\n",
        "Fold: 4, BestDegree: 3, TrainErr: 1.078627, TestErr: 0.595757"
       ]
      },
      {
       "output_type": "stream",
       "stream": "stdout",
       "text": [
        "\n",
        "Weights:  [[  -2.98430481   -1.50822025  -32.66009206    1.46273148  119.76504704\n",
        "    50.61970095   -0.66560777]]\n",
        "Mean TrainErr: 0.921142\n",
        "StdDev TrainErr: 0.116999\n",
        "Mean TestErr: 1.056610\n",
        "StdDev TestErr: 0.437083\n",
        "delta:  2.8\n",
        "Fold: 0, BestDegree: 3, TrainErr: 0.885124, TestErr: 1.162055"
       ]
      },
      {
       "output_type": "stream",
       "stream": "stdout",
       "text": [
        "\n",
        "Weights:  [[  -2.43158524   -1.71334197  -31.4723337    -3.20602095  118.84481737\n",
        "    54.11415449    1.29070705]]\n",
        "Fold: 1, BestDegree: 3, TrainErr: 0.778672, TestErr: 1.696217"
       ]
      },
      {
       "output_type": "stream",
       "stream": "stdout",
       "text": [
        "\n",
        "Weights:  [[  -2.73115897   -1.51478421  -32.34992346    0.32355382  123.63474325\n",
        "    51.30887934   -4.54750239]]\n",
        "Fold: 2, BestDegree: 3, TrainErr: 1.035226, TestErr: 0.530004"
       ]
      },
      {
       "output_type": "stream",
       "stream": "stdout",
       "text": [
        "\n",
        "Weights:  [[ -2.67258419e+00  -2.33655527e-02  -3.22226344e+01  -6.12868514e-01\n",
        "    1.16194438e+02   5.22527707e+01   2.30044055e+00]]\n",
        "Fold: 3, BestDegree: 3, TrainErr: 0.827564, TestErr: 1.284675"
       ]
      },
      {
       "output_type": "stream",
       "stream": "stdout",
       "text": [
        "\n",
        "Weights:  [[  -2.74489812   -1.57107621  -31.80722551   -1.16932591  120.99485115\n",
        "    52.33435777   -0.88734954]]\n",
        "Fold: 4, BestDegree: 3, TrainErr: 1.078497, TestErr: 0.595529"
       ]
      },
      {
       "output_type": "stream",
       "stream": "stdout",
       "text": [
        "\n",
        "Weights:  [[  -2.98488772   -1.51366738  -32.65867061    1.4564287   119.79180189\n",
        "    50.62513567   -0.6879485 ]]\n",
        "Mean TrainErr: 0.921017\n",
        "StdDev TrainErr: 0.116729\n",
        "Mean TestErr: 1.053696\n",
        "StdDev TestErr: 0.438656\n",
        "delta:  2.9\n",
        "Fold: 0, BestDegree: 3, TrainErr: 0.885445, TestErr: 1.154775"
       ]
      },
      {
       "output_type": "stream",
       "stream": "stdout",
       "text": [
        "\n",
        "Weights:  [[  -2.43566012   -1.72032484  -31.46972072   -3.16774027  118.93969604\n",
        "    54.08748866    1.170978  ]]\n",
        "Fold: 1, BestDegree: 3, TrainErr: 0.778755, TestErr: 1.696813"
       ]
      },
      {
       "output_type": "stream",
       "stream": "stdout",
       "text": [
        "\n",
        "Weights:  [[  -2.73111493   -1.51875558  -32.34727492    0.31163646  123.65366225\n",
        "    51.3184892    -4.56377423]]\n",
        "Fold: 2, BestDegree: 3, TrainErr: 1.034605, TestErr: 0.524313"
       ]
      },
      {
       "output_type": "stream",
       "stream": "stdout",
       "text": [
        "\n",
        "Weights:  [[ -2.67594984e+00  -4.86016048e-02  -3.22132966e+01  -5.99464022e-01\n",
        "    1.16338851e+02   5.22467180e+01   2.14861903e+00]]\n",
        "Fold: 3, BestDegree: 3, TrainErr: 0.827673, TestErr: 1.284497"
       ]
      },
      {
       "output_type": "stream",
       "stream": "stdout",
       "text": [
        "\n",
        "Weights:  [[  -2.744954     -1.57750224  -31.80243432   -1.19127572  121.02905028\n",
        "    52.35215222   -0.91759034]]\n",
        "Fold: 4, BestDegree: 3, TrainErr: 1.078395, TestErr: 0.595291"
       ]
      },
      {
       "output_type": "stream",
       "stream": "stdout",
       "text": [
        "\n",
        "Weights:  [[  -2.98521154   -1.51787022  -32.65627068    1.44586288  119.81209573\n",
        "    50.6339101    -0.70491495]]\n",
        "Mean TrainErr: 0.920975\n",
        "StdDev TrainErr: 0.116522\n",
        "Mean TestErr: 1.051138\n",
        "StdDev TestErr: 0.439872\n"
       ]
      }
     ],
     "prompt_number": 25
    },
    {
     "cell_type": "code",
     "collapsed": false,
     "input": [
      "plt.figure()\n",
      "plt.plot(np.arange(0.5, 3.0, 0.1), L_test, label='test')\n",
      "plt.plot(np.arange(0.5, 3.0, 0.1), L_train, label='train')\n",
      "plt.xlabel('delta')\n",
      "plt.ylabel('mean squared error')\n",
      "plt.legend()"
     ],
     "language": "python",
     "metadata": {},
     "outputs": [
      {
       "metadata": {},
       "output_type": "pyout",
       "prompt_number": 31,
       "text": [
        "<matplotlib.legend.Legend at 0x10d989190>"
       ]
      },
      {
       "metadata": {},
       "output_type": "display_data",
       "png": "[encoded data removed]",
       "text": [
        "<matplotlib.figure.Figure at 0x10d57e0d0>"
       ]
      }
     ],
     "prompt_number": 31
    },
    {
     "cell_type": "code",
     "collapsed": false,
     "input": [],
     "language": "python",
     "metadata": {},
     "outputs": []
    }
   ],
   "metadata": {}
  }
 ]
}